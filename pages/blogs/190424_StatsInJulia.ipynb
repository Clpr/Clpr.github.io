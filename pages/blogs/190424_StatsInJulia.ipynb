{
 "cells": [
  {
   "cell_type": "markdown",
   "metadata": {},
   "source": [
    "<p style=\"font-size:28pt;\">Doing statistics/econometrics in Julia 1.0</p>\n",
    "\n",
    "---------------------\n",
    "\n",
    "* Author: Tianhao Zhao\n",
    "* Last Update: April 29, 2019\n",
    "* Copyright: free\n",
    "\n",
    "-------------------"
   ]
  },
  {
   "cell_type": "markdown",
   "metadata": {
    "toc": true
   },
   "source": [
    "<h1>Current Table of Contents<span class=\"tocSkip\"></span></h1>\n",
    "<div class=\"toc\"><ul class=\"toc-item\"><li><span><a href=\"#Introduction\" data-toc-modified-id=\"Introduction-1\"><span class=\"toc-item-num\">1&nbsp;&nbsp;</span>Introduction</a></span></li><li><span><a href=\"#What-Packages-to-Use?\" data-toc-modified-id=\"What-Packages-to-Use?-2\"><span class=\"toc-item-num\">2&nbsp;&nbsp;</span>What Packages to Use?</a></span></li><li><span><a href=\"#Descriptive-Statistics\" data-toc-modified-id=\"Descriptive-Statistics-3\"><span class=\"toc-item-num\">3&nbsp;&nbsp;</span>Descriptive Statistics</a></span><ul class=\"toc-item\"><li><span><a href=\"#Making-a-table-of-descriptive-statistics\" data-toc-modified-id=\"Making-a-table-of-descriptive-statistics-3.1\"><span class=\"toc-item-num\">3.1&nbsp;&nbsp;</span>Making a table of descriptive statistics</a></span></li><li><span><a href=\"#Plotting:-histogram,-QQ-plot,-and-density-curve\" data-toc-modified-id=\"Plotting:-histogram,-QQ-plot,-and-density-curve-3.2\"><span class=\"toc-item-num\">3.2&nbsp;&nbsp;</span>Plotting: histogram, QQ-plot, and density curve</a></span><ul class=\"toc-item\"><li><span><a href=\"#Histogram-&amp;-Density-Curve\" data-toc-modified-id=\"Histogram-&amp;-Density-Curve-3.2.1\"><span class=\"toc-item-num\">3.2.1&nbsp;&nbsp;</span>Histogram &amp; Density Curve</a></span></li><li><span><a href=\"#QQ-plot\" data-toc-modified-id=\"QQ-plot-3.2.2\"><span class=\"toc-item-num\">3.2.2&nbsp;&nbsp;</span>QQ-plot</a></span></li></ul></li><li><span><a href=\"#Plotting:-line,-bar,-box,-pie\" data-toc-modified-id=\"Plotting:-line,-bar,-box,-pie-3.3\"><span class=\"toc-item-num\">3.3&nbsp;&nbsp;</span>Plotting: line, bar, box, pie</a></span></li></ul></li><li><span><a href=\"#Distributions\" data-toc-modified-id=\"Distributions-4\"><span class=\"toc-item-num\">4&nbsp;&nbsp;</span>Distributions</a></span><ul class=\"toc-item\"><li><span><a href=\"#Distributions.jl-and-supported-distributions\" data-toc-modified-id=\"Distributions.jl-and-supported-distributions-4.1\"><span class=\"toc-item-num\">4.1&nbsp;&nbsp;</span>Distributions.jl and supported distributions</a></span></li><li><span><a href=\"#Characteristics:-pdf,-cdf,-inv-cdf,-mgf\" data-toc-modified-id=\"Characteristics:-pdf,-cdf,-inv-cdf,-mgf-4.2\"><span class=\"toc-item-num\">4.2&nbsp;&nbsp;</span>Characteristics: pdf, cdf, inv-cdf, mgf</a></span></li><li><span><a href=\"#Properties:-quantile,-moments,-entropy-etc.\" data-toc-modified-id=\"Properties:-quantile,-moments,-entropy-etc.-4.3\"><span class=\"toc-item-num\">4.3&nbsp;&nbsp;</span>Properties: quantile, moments, entropy etc.</a></span></li><li><span><a href=\"#Generating-random-numbers-from-given-distributions\" data-toc-modified-id=\"Generating-random-numbers-from-given-distributions-4.4\"><span class=\"toc-item-num\">4.4&nbsp;&nbsp;</span>Generating random numbers from given distributions</a></span></li><li><span><a href=\"#Using-MLE-to-fit-given-data\" data-toc-modified-id=\"Using-MLE-to-fit-given-data-4.5\"><span class=\"toc-item-num\">4.5&nbsp;&nbsp;</span>Using MLE to fit given data</a></span></li><li><span><a href=\"#Mixture-models-(look-through)\" data-toc-modified-id=\"Mixture-models-(look-through)-4.6\"><span class=\"toc-item-num\">4.6&nbsp;&nbsp;</span>Mixture models (look through)</a></span></li><li><span><a href=\"#How-to-create-your-new/proposed-distributions\" data-toc-modified-id=\"How-to-create-your-new/proposed-distributions-4.7\"><span class=\"toc-item-num\">4.7&nbsp;&nbsp;</span>How to create your new/proposed distributions</a></span></li></ul></li><li><span><a href=\"#Sampling-on-Datasets\" data-toc-modified-id=\"Sampling-on-Datasets-5\"><span class=\"toc-item-num\">5&nbsp;&nbsp;</span>Sampling on Datasets</a></span><ul class=\"toc-item\"><li><span><a href=\"#Simple-sampling-on-datasets-without-replacement\" data-toc-modified-id=\"Simple-sampling-on-datasets-without-replacement-5.1\"><span class=\"toc-item-num\">5.1&nbsp;&nbsp;</span>Simple sampling on datasets without replacement</a></span></li><li><span><a href=\"#Bootstrappnig-(sampling-with-replacement)\" data-toc-modified-id=\"Bootstrappnig-(sampling-with-replacement)-5.2\"><span class=\"toc-item-num\">5.2&nbsp;&nbsp;</span>Bootstrappnig (sampling with replacement)</a></span></li><li><span><a href=\"#Basic-Stratified-sampling-on-datasets\" data-toc-modified-id=\"Basic-Stratified-sampling-on-datasets-5.3\"><span class=\"toc-item-num\">5.3&nbsp;&nbsp;</span>Basic Stratified sampling on datasets</a></span></li></ul></li><li><span><a href=\"#Hypothesis-Testing\" data-toc-modified-id=\"Hypothesis-Testing-6\"><span class=\"toc-item-num\">6&nbsp;&nbsp;</span>Hypothesis Testing</a></span></li></ul></div>"
   ]
  },
  {
   "cell_type": "markdown",
   "metadata": {},
   "source": [
    "<b>This blog will be updated irregularly. Here is a sketch of the topics to discuss.</b>\n",
    "\n",
    "<b>Planed Contents</b>:\n",
    "\n",
    "1. Introduction\n",
    "2. What Packages to Use\n",
    "3. Descriptive Statistics\n",
    "4. Distributions\n",
    "4. Sampling & Simulation\n",
    "5. Hypothesis Testing\n",
    "6. Linear Regressions & GLM\n",
    "7. Other Generic Regression Topics\n",
    "    1. Clustering\n",
    "    2. Classification\n",
    "    3. PCA/Factor Analysis\n",
    "    4. Mixture Models\n",
    "8. Econometric Topics\n",
    "    1. Time Series\n",
    "    2. Panel Data Models\n",
    "    3. Quantile Models\n",
    "    4. Structural Models\n",
    "    5. Filters\n",
    "    6. MCMC\n",
    "    7. Beyassian Econometrics\n",
    "9. How to Develop Your Own Statistical Models in Julia"
   ]
  },
  {
   "cell_type": "markdown",
   "metadata": {},
   "source": [
    "# Introduction\n",
    "\n",
    "In another [blog](190421_PrepareYourJuliaPkg.html) where I introduced how to prepare your Julia 1.0 for economic research, I roughly discussed the statistics/econometrics in Julia in the conclusion section.\n",
    "Though there is still a long way for Julia to go in econometrics, we can now do many fantastic jobs in statistics.\n",
    "This blog discusses how to do basic statistics in Julia 1.0.\n",
    "It depends on `JuliaStats` project and its packages. This is a project initiated by the Julia official. It is the base of the statistics in Julia language.\n",
    "\n",
    "In Section [2](#WhatPkgUsed), I provide a full list of the packages under `JuliaStats` project and some other packages. We will use these packages in this blog.\n",
    "In Section [3](#descriptivestats), I introduce how to use Julia do descriptive Statistics, e.g. histogram, QQ-plot.\n",
    "In Section [4](#distributions), I introduce how to play with many statistical distributions in Julia.\n",
    "In Section [5](#sampling), I introduce how to sampling on distributions or datasets.\n",
    "In Section [6](#hypothesistesting), I introduce how to do hypothesis tests e.g. two-sample F tests.\n",
    "In Section [7](#linearregression), I introduce how to do basic regression analysis with `MultivariateStats` and `GLM` packages.\n",
    "In Section [8](#otherstatmodels), I introduce how to do other common statistical analysis such as clustering and PCA.\n",
    "In Section [9](#econometrictopics), I discuss what other functions are required but not provided yet if we want to do more-specific econometric research, e.g. quantile regression and panel data models.\n"
   ]
  },
  {
   "cell_type": "markdown",
   "metadata": {},
   "source": [
    "# What Packages to Use?\n",
    "\n",
    "\n",
    "In this section, I talk about what packages to use in the next sections. About how to install Julia packages, please read my another [blog](190421_PrepareYourJuliaPkg.html).\n",
    "Please note, we do not use R/Python's API via `RCall`/`PyCall` (except plotting with `PyPlot`) since we are talking about the statistics in Julia.\n",
    "Meanwhile, this blog cannot cover every function of each package. Readers may be like to read these packages' documentations through searching their names on Github.\n",
    "\n",
    "`JuliaStats` is a project initiated by Julia official. Its website is: [JuliaStats.org](https://juliastats.github.io/).\n",
    "This project aims to make Julia become powerful in statistics (well ... not specially for econometrics).\n",
    "It has been the foundation of many ML/DL pacakges of Julia.\n",
    "The reason why we mainly talk about this project is that `JuliaStats` is like `SciPy` for Python or `stats` for R.\n",
    "It is expected to be the foundation of Julia statistics.\n",
    "\n",
    "There are 15 packages under `JuliaStats` project now. The following table is modified from the [documentation page](https://juliastats.github.io/) of `JuliaStats`:\n",
    "\n",
    "|Package|Task|Mainly for|\n",
    "|----|----|-----:|\n",
    "|StatsBase|Basic functionalities for statistics| Descriptive statistics; sampling; ranking; weights; correlation/auto-correlation |\n",
    "|StatsModels|Interfaces for statistical models| R-style `@formula`; abstrations for statistical model development |\n",
    "|DataFrames|Essential tools for tabular data| Data structure and operations for regression datasets |\n",
    "|Distributions| Probability distributions | A large number of univariate/multivariate distributions; descriptive stats; moments/pdf/cdf/mgf, sampling, MLE |\n",
    "|MultivariateStats|Multivariate statistical analysis | Matrix-based API for linear (e.g. LS, Lasso, Ridge) models, dimensionallity reduction, scaling, linear discriminant analysis|\n",
    "|HypothesisTests|Hypothesis tests| Parametric and Nonparametric tests|\n",
    "|MLBase| Swiss knife for machine learning| Data preprocessing; classifications; performance evaluation; model selectionn; cross-validation |\n",
    "|Distances| Various distances between vectors |  |\n",
    "|KernelDensity| Kernel density estimation| For univariate/multivariate/bivariate data; user customization of interpolation points/kernel/bandwidth |\n",
    "|Clustering| Algorithms for data clustering| K-means/medoids; Affinity propagation; Performance evaluation etc.|\n",
    "|<font color=red>GLM</font>| Generalized linear models| R-style API |\n",
    "|NMF| Nonnegative matrix factorization | NMF algorithms; NNDSVD |\n",
    "|RegERMs | Lasso/Elastic Net linear and GLMs | glmnet; polynomial trend filtering; O(n) fused Lasso; Gamma Lasso |\n",
    "|Klara| Markov Chain Monte Carlo (MCMC) | engine for Beyasian inference; samplers using latest techniques; user-friendly syntax for model specification; Ability to suspend and resume |\n",
    "|TimeSeries| Time series analysis | Tools to represent, manipulate and apply computation to time series data|\n",
    "\n",
    "In this blog, we talk about most of these pacakges but not all of them.\n",
    "\n",
    "Nowadays, many tutorials make it confused that which namespaces/pacakges a function belongs to.\n",
    "This is awful because beginners will be totally confused.\n",
    "In this blog, I will explicitly mention what packages that a function belongs to when talking about it for the first time.\n",
    "And, I will `import` a package rather than `using` it to make its namespace private. Of course, those common packages will be used to make code clear.\n",
    "\n",
    "Meanwhile, we use `PyPlot` as our visualization package, and do not use `Plots` as frontend. Matlab & Python users may see many familiar sentences.\n"
   ]
  },
  {
   "cell_type": "markdown",
   "metadata": {},
   "source": [
    "# Descriptive Statistics\n",
    "\n",
    "\n",
    "In this section, we talk about how to use Julia to do common descriptive statistics.\n",
    "This section consists of:\n",
    "1. Making a table of descriptive statistics: `mean`, `std`, `qunatile` etc.\n",
    "2. Plotting: histogram, kernel density, QQ-plot, pie\n",
    "3. Plotting: line, bar, box, pie\n",
    "\n",
    "Subsections 2, 3 which are about visualization are not emphasized, because they are more related to the usage of specific visualization tools (e.g. `PyPlot`) than statistical principles.\n",
    "\n",
    "## Making a table of descriptive statistics\n",
    "\n",
    "When introducing a dataset in paper, authors are usually required to provide a summary table like:\n",
    "\n",
    "|Variable|N| min| 25% quantile | median | mean | std | 75% quantile | max |\n",
    "|----|---|---|----|---|---|---|-----|---|\n",
    "|y| 100| -1.00 | -0.24 | -0.20 | -0.18 | 2.34 | 0.23 | 0.76 |\n",
    "|x| 100| 23.22 | 25.03 | 27.98 | 26.33 | 0.54 | 29.22| 31.43|\n",
    "\n",
    "To make such a table, readers need to learn:\n",
    "1. how to compute basic statistics, e.g. sample size, mean and std, for a single variable\n",
    "2. how to construct or format such a table\n",
    "\n",
    "For the two tasks, there may be some easy-APIs to automatically compute everything then do formatting.\n",
    "But we will finish the two jobs step by step, to get familiar with Julia's statistics.\n",
    "\n",
    "Before Julia 0.7, common descriptive statistical methods, e.g. `mean`, are included in core Julia, which means users do not need to explicitly import/using a package to introduce them.\n",
    "But since v0.7, these functions are separated to a standard library `StatsBase`.\n",
    "(Yes, this package is one part of `JuliaStats` project)\n",
    "Now, we introduce this package then see several demos which show how to do basic statistics.\n",
    "\n",
    "P.S. to explicitly display which pacakge a function belong to, we use `import` but not `using` to keep introduced packages private. But in practice, we usually `using StatsBase` to expose all exportable objects to current namespace to avoid re-writing \"StatsBase\" times by times"
   ]
  },
  {
   "cell_type": "code",
   "execution_count": 6,
   "metadata": {},
   "outputs": [
    {
     "name": "stdout",
     "output_type": "stream",
     "text": [
      "Please note the type of x: Array{Float64,1} which is a synonym of Vector{Float64,1}\n",
      "mean value: 0.48521158882357773\n",
      "standard error: 0.3076766420738591\n",
      "variance: 0.09466491607784558\n",
      "kurtosis: -1.2816435764149026\n",
      "skewness: -0.028430831233924724\n",
      "5th order sample central moment: 4.362788972667082e-5\n",
      "min  value & its location in x: (0.001958103627337726, 55)\n",
      "max  value & its location in x: (0.9972898039542897, 36)\n",
      "25% quantile: 0.17948895852651403\n",
      "75% quantile: 0.7573790184326592\n",
      "median: 0.5137663782501359 which is equivalent to 50% quantile: 0.5137663782501359\n",
      "mode: 0.7496324372043717\n"
     ]
    }
   ],
   "source": [
    "# julia 1.0\n",
    "    import StatsBase\n",
    "\n",
    "# generate a random vector (one-way Array) from a [0,1] uniform distributions; rand() & randn() are kept in core Julia\n",
    "x = rand(100)\n",
    "println(\"Please note the type of x: \",typeof(x), \" which is a synonym of Vector{Float64,1}\")\n",
    "\n",
    "# compute and print basic statistics\n",
    "println(\"mean value: \", StatsBase.mean(x) )\n",
    "println(\"standard error: \", StatsBase.std(x) )\n",
    "println(\"variance: \", StatsBase.var(x) )\n",
    "println(\"kurtosis: \", StatsBase.kurtosis(x) )\n",
    "println(\"skewness: \", StatsBase.skewness(x) )\n",
    "println(\"5th order sample central moment: \", StatsBase.moment(x,5) )\n",
    "println(\"min  value & its location in x: \", findmin(x) )\n",
    "println(\"max  value & its location in x: \", findmax(x) )\n",
    "println(\"25% quantile: \", StatsBase.quantile(x, 0.25) )\n",
    "println(\"75% quantile: \", StatsBase.quantile(x, 0.75) )\n",
    "println(\"median: \", StatsBase.median(x), \" which is equivalent to 50% quantile: \", StatsBase.quantile(x, 0.5) )\n",
    "println(\"mode: \", StatsBase.mode(x) )"
   ]
  },
  {
   "cell_type": "markdown",
   "metadata": {},
   "source": [
    "There are several things to note:\n",
    "1. `Vector{T}` is a simple presentation of one-way array `Array{T,1}`, where `T` is a wildcard denoting \"type\" in Julia type systems. In the same way, `Matrix{T}` is the simple presentation of two-way array `Array{T,2}`. And in Julia, `Array{T,W}` can be seen as the union set of Python's list and Matlab's array. They can do list operations also linear algebra operations.\n",
    "2. finding max/min in Julia does not use `max()` and `min()` but use `findmax()` and `findmin()`. The two functions return a 2-member Tuple whose 1st member is the max/min value and the 2nd is the location of max/min in the given iterable object. By the way, `max()` and `min()` are similar to those in C/C++. They just compare two arguments and return the larger/smaller one."
   ]
  },
  {
   "cell_type": "markdown",
   "metadata": {},
   "source": [
    "Now we learn how to format a table of basic descriptive statistics.\n",
    "To do this job, there are two common ways:\n",
    "1. using simple `Array{T,2}` structures then format it by oneself\n",
    "2. using `DataFrame` to make it look like a table\n",
    "\n",
    "First, we display a demo of using `Array{T,2}` to format your statistics."
   ]
  },
  {
   "cell_type": "code",
   "execution_count": 13,
   "metadata": {},
   "outputs": [
    {
     "name": "stdout",
     "output_type": "stream",
     "text": [
      "The table of basic statistics in a Matrix:\n"
     ]
    },
    {
     "data": {
      "text/plain": [
       "3×9 Array{Any,2}:\n",
       " \"Variable\"     \"N\"    \"min\"      …   \"std\"     \"75% qt\"   \"max\"  \n",
       " \"x1\"        100      0.00662265     0.296445  0.696367   0.983436\n",
       " \"x2\"        100     -2.41295        0.948719  0.474806   2.72317 "
      ]
     },
     "execution_count": 13,
     "metadata": {},
     "output_type": "execute_result"
    }
   ],
   "source": [
    "x1 = rand(100); x2 = randn(100); # sample data, one from uniform, one from N(0,1)\n",
    "stattab = [\n",
    "    \"Variable\" \"N\" \"min\" \"25% qt\" \"median\" \"mean\" \"std\" \"75% qt\" \"max\" ;\n",
    "    \"x1\" length(x1) findmin(x1)[1] StatsBase.quantile(x1,0.25) StatsBase.median(x1) StatsBase.mean(x1) StatsBase.std(x1) StatsBase.quantile(x1,0.75) findmax(x1)[1] ;\n",
    "    \"x2\" length(x2) findmin(x2)[1] StatsBase.quantile(x2,0.25) StatsBase.median(x2) StatsBase.mean(x2) StatsBase.std(x2) StatsBase.quantile(x2,0.75) findmax(x2)[1] ;\n",
    "]\n",
    "println(\"The table of basic statistics in a Matrix:\")\n",
    "stattab"
   ]
  },
  {
   "cell_type": "code",
   "execution_count": 14,
   "metadata": {},
   "outputs": [
    {
     "name": "stdout",
     "output_type": "stream",
     "text": [
      "The table of basic statistics in a Matrix:\n"
     ]
    },
    {
     "data": {
      "text/plain": [
       "3×9 Array{Any,2}:\n",
       " \"Variable\"     \"N\"    \"min\"      …   \"std\"     \"75% qt\"   \"max\"  \n",
       " \"x1\"        100.0    0.00662265     0.296445  0.696367   0.983436\n",
       " \"x2\"        100.0   -2.41295        0.948719  0.474806   2.72317 "
      ]
     },
     "execution_count": 14,
     "metadata": {},
     "output_type": "execute_result"
    }
   ],
   "source": [
    "# or we can define a small function to make things clearer\n",
    "func(x) = return [\n",
    "    length(x) findmin(x)[1] StatsBase.quantile(x,0.25) StatsBase.median(x) StatsBase.mean(x) StatsBase.std(x) StatsBase.quantile(x,0.75) findmax(x)[1] ;\n",
    "]\n",
    "\n",
    "# use cat() to connect arrays on specific dim\n",
    "# NOTE: dims = 1 by columns, dims = 2 by rows\n",
    "stattab = cat(\n",
    "    [ \"Variable\" \"N\" \"min\" \"25% qt\" \"median\" \"mean\" \"std\" \"75% qt\" \"max\"],\n",
    "    cat( \"x1\", func(x1), dims = 2 ),\n",
    "    cat( \"x2\", func(x2), dims = 2 ),\n",
    "    dims = 1\n",
    ");\n",
    "println(\"The table of basic statistics in a Matrix:\")\n",
    "stattab"
   ]
  },
  {
   "cell_type": "markdown",
   "metadata": {},
   "source": [
    "Now, we use a DataFrame to organize our result:\n",
    "\n",
    "\n"
   ]
  },
  {
   "cell_type": "code",
   "execution_count": 18,
   "metadata": {},
   "outputs": [
    {
     "name": "stdout",
     "output_type": "stream",
     "text": [
      "The defined data frame is: \n"
     ]
    },
    {
     "data": {
      "text/html": [
       "<table class=\"data-frame\"><thead><tr><th></th><th>Variable</th><th>N</th><th>min</th><th>qt25</th><th>median</th><th>mean</th><th>qt75</th><th>max</th></tr><tr><th></th><th>String</th><th>Int64</th><th>Float64</th><th>Float64</th><th>Float64</th><th>Float64</th><th>Float64</th><th>Float64</th></tr></thead><tbody><tr><th>1</th><td>x1</td><td>100</td><td>0.00662265</td><td>0.182114</td><td>0.411292</td><td>0.450711</td><td>0.696367</td><td>0.983436</td></tr><tr><th>2</th><td>x2</td><td>100</td><td>-2.41295</td><td>-0.550101</td><td>-0.131756</td><td>-0.0865205</td><td>0.474806</td><td>2.72317</td></tr></tbody></table>"
      ],
      "text/plain": [
       "2×8 DataFrames.DataFrame. Omitted printing of 2 columns\n",
       "│ Row │ Variable │ N     │ min        │ qt25      │ median    │ mean       │\n",
       "│     │ \u001b[90mString\u001b[39m   │ \u001b[90mInt64\u001b[39m │ \u001b[90mFloat64\u001b[39m    │ \u001b[90mFloat64\u001b[39m   │ \u001b[90mFloat64\u001b[39m   │ \u001b[90mFloat64\u001b[39m    │\n",
       "├─────┼──────────┼───────┼────────────┼───────────┼───────────┼────────────┤\n",
       "│ 1   │ x1       │ 100   │ 0.00662265 │ 0.182114  │ 0.411292  │ 0.450711   │\n",
       "│ 2   │ x2       │ 100   │ -2.41295   │ -0.550101 │ -0.131756 │ -0.0865205 │"
      ]
     },
     "execution_count": 18,
     "metadata": {},
     "output_type": "execute_result"
    }
   ],
   "source": [
    "    import DataFrames # private, but usually \"using\" in practice\n",
    "\n",
    "# creating a DataFrame by columns:\n",
    "statdframe = DataFrames.DataFrame(\n",
    "    :Variable => [\"x1\", \"x2\"],\n",
    "    :N => [ length(x1), size(x2)[1] ], # using size()[1] to get the size of 1st dimension\n",
    "    :min => [findmin(x1)[1], findmin(x2)[1]],  # basic definition\n",
    "    :qt25 => [ StatsBase.quantile(y,0.25) for y in [x1,x2] ], # python-like list comprehension\n",
    "    :median => StatsBase.median.([x1,x2]), # \".\"-style method broadcasting\n",
    "    :mean => StatsBase.mean.([x1,x2]),\n",
    "    :qt75 => StatsBase.quantile.([x1,x2], 0.75),\n",
    "    :max => [findmax(x1)[1], findmax(x2)[1]]\n",
    ");\n",
    "println(\"The defined data frame is: \")\n",
    "statdframe"
   ]
  },
  {
   "cell_type": "markdown",
   "metadata": {},
   "source": [
    "## Plotting: histogram, QQ-plot, and density curve\n",
    "\n",
    "In the section of descriptive statistics, authors usually provide illustrations about some important variables (e.g. dependent variable).\n",
    "This subsection discusses how to make common diagrams in Julia. Of course, using `PyPlot` API.\n",
    "But please note, I will not discuss this topic much because it depends on what visualization tool you use.\n",
    "\n",
    "<i>Note: Readers with experience in python may skip this subsection because the usage of `PyPlot` is very similar to `matplotlib.pyplot`. However, there are some subtle differences raised by the different realizations of Julia and python's OO mechanism.</i>\n",
    "\n",
    "### Histogram & Density Curve\n",
    "\n",
    "One of the most common diagram used in descriptive statistics is single-variable histogram.\n",
    "Sometimes, people also like to draw a histogram with a kernel-density curve.\n",
    "Actually, both histogram & kernel-density, as the most simple nonparametric estimations, need to be estimated.\n",
    "But here we do not discuss this topic because `PyPlot` automatically does this job unless we need some custom histogram (e.g. censored histogram). If you wanna learn how to make your custom colorful histograms, please refer to this [page](https://towardsdatascience.com/histograms-and-density-plots-in-python-f6bda88f5ac0).\n",
    "\n",
    "Here is a demo to draw histograms with an estimated kernel-density curve in Julia.\n",
    "You need the `KernelDensity` package of `JuliaStats` project."
   ]
  },
  {
   "cell_type": "code",
   "execution_count": null,
   "metadata": {},
   "outputs": [],
   "source": [
    "    using PyPlot  # using PyPlot\n",
    "    import KernelDensity  # under JuliaStats project"
   ]
  },
  {
   "cell_type": "code",
   "execution_count": 5,
   "metadata": {},
   "outputs": [
    {
     "data": {
      "image/png": "[encoded data removed]",
      "text/plain": [
       "Figure(PyObject <Figure size 640x480 with 1 Axes>)"
      ]
     },
     "metadata": {},
     "output_type": "display_data"
    },
    {
     "name": "stdout",
     "output_type": "stream",
     "text": [
      "Readers are recommended to use NovDist.LatinHyperCube() in my another blog to better rebuild a distribution!\n"
     ]
    }
   ],
   "source": [
    "x = randn(2000) # sample data, a vector\n",
    "kde_x = KernelDensity.kde(x) # univariate kernel estimation, default settings\n",
    "\n",
    "figure()\n",
    "    hist(x, 40, density = true); # 40 specifies how many sections to use, density = true displays density rather than frequency\n",
    "    plot(sort(x),KernelDensity.pdf(kde_x,sort(x)),\"--r\") # sort x then use KernelDensity.pdf() to get the interpolated pdf value at x points\n",
    "    # NOTE: sort x because plot() connect points according to their position in x\n",
    "    xlabel(\"x\"); ylabel(\"density\"); grid(true);\n",
    "    title(L\"This is a latex title $N(\\mu,\\sigma)$\");  # this is how to use latex string in PyPlot: L\"string\""
   ]
  },
  {
   "cell_type": "markdown",
   "metadata": {},
   "source": [
    "In this demo, I `import KernelDensity` rather than `using` it because I wanna let readers know which functions belong to `KernelDensity`.\n",
    "We can see `KernelDensity.kde` function estimates the kernel density of vector `x` with default settings (e.g. the bandwidth), like the `density()` function in R language.\n",
    "But please note, the returned object by `KernelDensity.kde()` is an interpolation-like object whose density value can be evaluated at a specific `x0` via `KernelDensity.pdf(kde_x,x0)`.\n",
    "Meanwhile, `KernelDensity` provides full functions for kernel estimation, users may read its [documentations](https://github.com/JuliaStats/KernelDensity.jl) for more usage of this package.\n",
    "\n",
    "\n",
    "\n",
    "By the way, readers are recommended to use `NovDist.LatinHyperCube()` in [my another blog](190420_LHSonMvNormal.html) to quickly rebuild a distribution, esp. when they do Monte-Carlo based estimations.\n"
   ]
  },
  {
   "cell_type": "markdown",
   "metadata": {},
   "source": [
    "### QQ-plot\n",
    "\n",
    "QQ-plot is an intuitive tool to diagnose if two given distributions are linearly correlated.\n",
    "If we wanna use QQ-plot to see if a given distribution $X$ follows another given distribution $F$, we need:\n",
    "1. experience quantiles $q_X(x)$ estimated from a given experience distribution $X$ (if $X$ is a sample set, computing $q_X(x)$ for $\\forall x \\in X$ via the rate of standard competition ranking on sample size)\n",
    "1. according to the experience quantiles, assuming $x$ is from a given distribution $F$; then for a specific $q_X(x_0)$, compute the $\\tilde{x}_0$ following $F$ which lets $q_x(x_0) = q_F(\\tilde{x}_0) $\n",
    "1. draw a curve $( \\tilde{x}_0, x_0 )$ on x-y plate, this is QQ-line\n",
    "1. draw a reference curve $( \\tilde{x}_0,\\tilde{x}_0 )$ on the same plate\n",
    "\n",
    "Because `PyPlot` does not provide quick functions for QQ-plots, we compute it here by ourselves (also for better understanding the QQ-plot).\n",
    "If you use other visualization tools, there may be some lazy functions to do this job.\n",
    "\n",
    "And, the reason why we use the standard competition rankings (\"1224\") is that quantiles are defined on the standard competition ranking but not other kinds of rankings. Please read [Wikipedia](https://en.wikipedia.org/wiki/Ranking) to learn the differences among ranking types.\n",
    "\n",
    "*Note*: Actually, in Section 4, I will talk about the `QQPair` in `Distributions` package.\n",
    "\n",
    "Here is a demo which tests if a sample vector `x` is from a $N(0,1)$ distribution:"
   ]
  },
  {
   "cell_type": "code",
   "execution_count": 3,
   "metadata": {},
   "outputs": [],
   "source": [
    "    using PyPlot # plot\n",
    "    import StatsBase # lib under JuliaStats, we use it to compute rankings\n",
    "    import Distributions  # lib under JuliaStats, for distribution types"
   ]
  },
  {
   "cell_type": "code",
   "execution_count": 9,
   "metadata": {},
   "outputs": [
    {
     "data": {
      "image/png": "[encoded data removed]",
      "text/plain": [
       "Figure(PyObject <Figure size 640x480 with 1 Axes>)"
      ]
     },
     "metadata": {},
     "output_type": "display_data"
    }
   ],
   "source": [
    "x = randn(200)  # sample data, a given experience distribuion X to test\n",
    "\n",
    "# compute experience quantiles of X\n",
    "sort!(x) # sort x in-place; less allocations when x is large (well, that means millions-level vector)\n",
    "expqt_x = StatsBase.competerank(x) ./ length(x) # compute COMPETITION rankings and divided by the sample size to get experience quantile of X\n",
    "\n",
    "# get the corresponding x\\tilde from N(0,1), the distribution we assume X to follow\n",
    "# NOTE: use func.(x) to apply a scalar method on every element of array x and return a same-size array of results\n",
    "theoqt_x = Distributions.quantile.( Distributions.Normal(), expqt_x )\n",
    "\n",
    "# plotting\n",
    "plot( theoqt_x, x, \".\" ); plot( theoqt_x, theoqt_x, \"-\" );\n",
    "grid(true); xlabel(\"Theoretical quantiles of N(0,1)\"); ylabel(\"Experience quantiles\");"
   ]
  },
  {
   "cell_type": "markdown",
   "metadata": {},
   "source": [
    "## Plotting: line, bar, box, pie\n",
    "\n",
    "This subsection gives a demo about how to draw ordinary line charts, bar charts, box plots, and pie charts.\n",
    "However, readers need to learn that doing these jobs highly depend on what visualization tool you use.\n",
    "Therefore, there will not be more code. And I will display some syntax sugars and programming tricks of Julia in the following demo."
   ]
  },
  {
   "cell_type": "code",
   "execution_count": 53,
   "metadata": {},
   "outputs": [],
   "source": [
    "# sample data for line chart\n",
    "lx = LinRange(0.1,1,200); ly = lx .^ 2;\n",
    "# sample data for bar chart\n",
    "blabels = [\"this\",\"is\",\"a\",\"demo\"]; bvals = [20,19,4,30];\n",
    "# sample data for box plot\n",
    "bx = [ randn(200) for x in 1:4 ]\n",
    "# sample data for pie chart\n",
    "px = [4,3,1,5]; # frequency\n",
    "plabel = [\"this\",\"is\",\"a\",\"demo\"];"
   ]
  },
  {
   "cell_type": "code",
   "execution_count": 54,
   "metadata": {},
   "outputs": [
    {
     "data": {
      "image/png": "[encoded data removed]",
      "text/plain": [
       "Figure(PyObject <Figure size 640x480 with 4 Axes>)"
      ]
     },
     "metadata": {},
     "output_type": "display_data"
    }
   ],
   "source": [
    "figure()\n",
    "subplot(2,2,1) # line chart\n",
    "    plot(lx,ly); plot(lx,lx,\"-.r\"); plot(lx,exp.(lx),\":m\"); plot(lx,log.(lx),\"--g\");\n",
    "    legend([\"this\",\"is\",\"a\",\"demo\"],loc=\"best\");\n",
    "    xlabel(\"x\"); ylabel(\"y\"); grid(true); title(\"line chart\");\n",
    "subplot(2,2,2) # bar chart\n",
    "    bar(1:length(bvals),bvals); grid(true); title(\"bar chart\"); xticks(1:length(bvals),blabels);\n",
    "subplot(2,2,3) # box plot\n",
    "    boxplot(bx); xticks(1:length(bx),[\"this\",\"is\",\"a\",\"demo\"]); title(\"box plot\");\n",
    "subplot(2,2,4) # pie chart\n",
    "    pie(px, labels = plabel); title(\"bar chart\");\n",
    "tight_layout();"
   ]
  },
  {
   "cell_type": "markdown",
   "metadata": {},
   "source": [
    "# Distributions\n",
    "\n",
    "In this section, we look through how to work with **<u>standard, theoretical</u>** models in Julia, e.g. $\\beta$, Pareto, $\\gamma$.\n",
    "Here is the topics we are about to talk about:\n",
    "1. Distributions.jl and supported distributions\n",
    "2. Characteristics: pdf, cdf, inv-cdf, mgf\n",
    "3. Properties: quantile, moments, entropy etc.\n",
    "3. Generating random numbers from given distributions\n",
    "4. Using MLE to fit given data\n",
    "5. Mixture models (look through)\n",
    "6. How to create your new/proposed distributions\n",
    "\n",
    "\n",
    "\n",
    "\n",
    "\n"
   ]
  },
  {
   "cell_type": "markdown",
   "metadata": {},
   "source": [
    "## Distributions.jl and supported distributions\n",
    "\n",
    "`Distributions` is a package under `JuliaStats` project.\n",
    "It provides supports for varies of defined statistical distributions: declaration, characters, properties, sampling, fitting, mixture model etc.\n",
    "It also allows developers to create their new statistical distributions in a standard work flow and integrate them with the current `Distributions`.\n",
    "Please refer to [the documentation](https://juliastats.github.io/Distributions.jl/stable/index.html) for more usage.\n",
    "\n",
    "\n",
    "In R and Matlab, users may get used to methods like `randn()` and `runif()`, where distributions are not defined separately from relative operations.\n",
    "But this design is not philosophical good because it fuzzes actions and the objects that the actions work on.\n",
    "So, in ideal object-oriented (OO) designs, \"distribution\" objects are separated from operations like sampling.\n",
    "But in many full-OO designs, esp. some in python/Java, we may see a normal distribution class defined as:\n",
    "\n",
    "```python\n",
    "# python 3 \n",
    "class NormalDist:\n",
    "    mu = 0.0\n",
    "    sigma = 0.0\n",
    "    def __init__(self, mu, sigma):\n",
    "        self.mu = mu\n",
    "        self.sigma = sigma\n",
    "    def sample(self,N)\n",
    "        ...\n",
    "```\n",
    "\n",
    "When we run `NormalDist(0,1)`, we get an instance of \"distribution\" then can operate it as an object.\n",
    "It looks we have treat normal distribution as an object successfully.\n",
    "However, users may find a `sample()` method is defined **inside** `NormalDist` class, in which the method is actually an action to be applied **on** a normal distribution.\n",
    "This is another philosophical mistake happening often in many programs.\n",
    "I have to say it is so weired because it seems that a distribution can sample itself: in fact, it is we, the econometricians, who sample from the distribution.\n",
    "\n",
    "Fortunately, we can see this problem is solved in Julia because of its multi-patches OO realization, where we use types rather than classes to do OO programming. One of the most significant difference (at least on the surface) is that functions are not allowed to be defined inside types (except initialization method). Distributions are defined as a identifying symbol (type) with defined parameter values. Functions decide their behaviors according to what type of a given distribution instance.\n",
    "It strictly distinguishes objects from operations. Though now we need to reload generic functions explicitly, we will not meet philosophical confusions like \"someone pulls his/her hair to lift his/her own body\", i.e. bootstrapping. (lol this is a cold joke)\n",
    "\n",
    "`Distributions` follows such a philosophy separately defining the distributions to operate and many operations on these distributions.\n",
    "For example, we can define a normal distribution through `d = Distributions.Normal(mu,sigma)` then sample from it through `Distributions.sample(d,200)`.\n",
    "Until now, this package has supported over 77 standard distributions:\n"
   ]
  },
  {
   "cell_type": "markdown",
   "metadata": {},
   "source": [
    "| **Distribution** | **Definition Type** | **Distribution** | **Definition Type** |\n",
    "|--------------|------------------|----------------------|------------------------|\n",
    "| Arc-sin | Arcsine | Generalized Pareto | GeneralizedPareto |\n",
    "| Bernoulli | Bernoulli | Geometrix | Geometric |\n",
    "| Beta | Beta | Gumbel | Gumbel |\n",
    "| Beta Binomial | BetaBinomial | Hypergeometric | Hypergeometric |\n",
    "| Beta Prime | BetaPrime | Inverse gamma | InverseGamma |\n",
    "| Binomial | Binomial | Inverse gaussian/normal | InverseGaussian |\n",
    "| Biweight | Biweight | Inverse Wishart | InverseWishart |\n",
    "| Canonical form of multi-variate normal   distribution | MvNormalCanon | Kolmogorov | Kolmogorov |\n",
    "| Canonical form of normal distribution | NormalCanon | Laplace | Laplace |\n",
    "| Categorical | Categorical | Levy | Levy |\n",
    "| Cauchy | Cauchy | Logistic | Logistic |\n",
    "| Chi | Chi | Log-normal | LogNormal |\n",
    "| Chi-square | Chisq | General Matrix-based Discrete | DiscreteMatrixDistribution |\n",
    "| Cosine | Cosine | Multinomial | Multinomial |\n",
    "| Dirichlet | Dirichlet | Multinomial Dirichlet | DirichletMultinomial |\n",
    "| Discrete | Discrete | General Multivariate Discrete | DiscreteMultivariateDistribution |\n",
    "| Discrete uniform | DiscreteUniform | Multivariate log-normal | MvLogNormal |\n",
    "| Double exponential | DoubleExponential | Multivariate Normal | AbstractMvNormal |\n",
    "| Empirical univariate | EmpiricalUnivariateDistribution | Multivariate t-student | MvTDist |\n",
    "| Epanechnikov | Epanechnikov | Negative binomial | NegativeBinomial |\n",
    "| Erlang | Erlang | Non central Hypergeometrix Fisher | FisherNoncentralHypergeometric |\n",
    "| Exponential | Exponential | Non-central beta | NoncentralBeta |\n",
    "| F | FDist | Non-central Chisquare | NoncentralChisq |\n",
    "| Frechet | Frechet | Non-central F | NoncentralF |\n",
    "| Gamma | Gamma | Non-central Hypergeometric | NoncentralHypergeometric |\n",
    "| General matrix-based continuous   distribution | ContinuousMatrixDistribution | Non-central t-student | NoncentralT |\n",
    "| General multivariate continuous   distribution | ContinuousMultivariateDistribution | Normal | Normal |\n",
    "| General univariate continuous   distribution | ContinuousUnivariateDistribution | Normal-inverse Gaussian | NormalInverseGaussian |\n",
    "| Generalized extrame value | GeneralizedExtremeValue | Onw-sided Kolmogorov-Smifnoff statistics | KSOneSided |\n",
    "| Pareto | Pareto | Two-sided Kolmogorov-Smirnoff statistics | KSDist |\n",
    "| Poission Binomial | PoissonBinomial | Uniform | Uniform |\n",
    "| Poisson | Poisson | Univariate Discrete | DiscreteUnivariateDistribution |\n",
    "| Rayleigh | Rayleigh | Von Mises distribution | VonMises |\n",
    "| Skellam | Skellam | Von Mises Fisher distribution | VonMisesFisher |\n",
    "| Symmetric triangular | SymTriangularDist | Wallenius non-central hypergeometric | WalleniusNoncentralHypergeometric |\n",
    "| Triangular | TriangularDist | Weibull | Weibull |\n",
    "| Truncated | Truncated | Wigner semicircle | Semicircle |\n",
    "| Truncated normal | TruncatedNormal | Wishart | Wishart |\n",
    "| t-student | TDist |  |  |"
   ]
  },
  {
   "cell_type": "markdown",
   "metadata": {},
   "source": [
    "In those studies where we do not propose new statistical distributions, the above distributions are enough.\n",
    "And, all the above distributions follow the same principles of operations. It means we can use the same function to operate different distribution, e.g. `quantile(Normal(0,1),0.5)` and `quantile(TDist(2.2),0.3)`.\n",
    "\n",
    "To declare/initiate/create a distribution object is like:"
   ]
  },
  {
   "cell_type": "code",
   "execution_count": 59,
   "metadata": {},
   "outputs": [],
   "source": [
    "    import Distributions\n",
    "\n",
    "# distribution type name + parameters\n",
    "\n",
    "# normal distribution\n",
    "d = Distributions.Normal( 1.0, 0.2 );\n",
    "# multivariate normal\n",
    "d = Distributions.MvNormal( [0.0,1.2], [1.2 0.3; 0.3 2.4] )\n",
    "# uniform (a,b)\n",
    "d = Distributions.Uniform(1.0, 2.0);"
   ]
  },
  {
   "cell_type": "markdown",
   "metadata": {},
   "source": [
    "Readers can refer to the documentations of `Distributions` for more examples."
   ]
  },
  {
   "cell_type": "markdown",
   "metadata": {},
   "source": [
    "## Characteristics: pdf, cdf, inv-cdf, mgf\n",
    "\n",
    "In this subsection, we talk about how to compute generic characteristics of a given distribution.\n",
    "\n",
    "To evaluate pdf and cdf of distribution `d` at a specific point `x`, just pass distribution object + `x` to `cdf()` and `pdf()` functions:"
   ]
  },
  {
   "cell_type": "code",
   "execution_count": 63,
   "metadata": {},
   "outputs": [
    {
     "name": "stdout",
     "output_type": "stream",
     "text": [
      "PDF of N(0.5,1) at x = 1.0 is: 0.3520653267642995\n",
      "CDF of N(0.5,1) at x = 1.0 is: 0.6914624612740131\n",
      "[1,1.5] in the domain of d? : true\n",
      "PDF of N(μ,Σ) at x = (1.0,1.5) is: 0.06278103978145964\n",
      "does not support cdf for multivariate normal\n"
     ]
    }
   ],
   "source": [
    "# univariate case\n",
    "d = Distributions.Normal(0.5,1.0)\n",
    "println(\"PDF of N(0.5,1) at x = 1.0 is: \", Distributions.pdf(d,1.0)  )\n",
    "println(\"CDF of N(0.5,1) at x = 1.0 is: \", Distributions.cdf(d,1.0)  )\n",
    "\n",
    "# multivariate case\n",
    "d = d = Distributions.MvNormal( [0.0,1.2], [1.2 0.3; 0.3 2.4] )\n",
    "println(\"[1,1.5] in the domain of d? : \", Distributions.insupport(d,[1.0,1.5]) )\n",
    "println(\"PDF of N(μ,Σ) at x = (1.0,1.5) is: \", Distributions.pdf(d,[1.0,1.5])  )\n",
    "println(\"does not support cdf for multivariate normal\")"
   ]
  },
  {
   "cell_type": "markdown",
   "metadata": {},
   "source": [
    "For standard distributions, their `quantile` is their inverse cdf function, e.g.:"
   ]
  },
  {
   "cell_type": "code",
   "execution_count": 64,
   "metadata": {},
   "outputs": [
    {
     "name": "stdout",
     "output_type": "stream",
     "text": [
      "-0.5244005127080409 is the x which lets F(x) = 0.3\n"
     ]
    }
   ],
   "source": [
    "d = Distributions.Normal() # standard N(0,1)\n",
    "println( Distributions.quantile(d,0.3), \" is the x which lets F(x) = 0.3\" )"
   ]
  },
  {
   "cell_type": "markdown",
   "metadata": {},
   "source": [
    "Readers can evaluate the moment generating function (mgf) $M_X(t) = E( e^{tX} )$ at point `t` through:"
   ]
  },
  {
   "cell_type": "code",
   "execution_count": 70,
   "metadata": {},
   "outputs": [
    {
     "name": "stdout",
     "output_type": "stream",
     "text": [
      "The mgf value of N(0,1) at t is: 2.0544332106438876\n"
     ]
    }
   ],
   "source": [
    "d = Distributions.Normal() # standard N(0,1)\n",
    "t = 1.2 # \n",
    "println( \"The mgf value of N(0,1) at t is: \", Distributions.mgf(d, t) )"
   ]
  },
  {
   "cell_type": "markdown",
   "metadata": {},
   "source": [
    "## Properties: quantile, moments, entropy etc.\n",
    "\n",
    "Evaluating common properties in `Distributions` is very easy, e.g."
   ]
  },
  {
   "cell_type": "code",
   "execution_count": 1,
   "metadata": {},
   "outputs": [
    {
     "name": "stdout",
     "output_type": "stream",
     "text": [
      "The 25% quantile of N(0.5,0.5) is: 0.1627551249019591\n",
      "The entropy of N(0.5,0.5) is: 0.7257913526447274 or evaluated on a base: -0.45095952259944383\n",
      "The mean value of N(0.5,0.5) is: 0.5 or 0.5\n",
      "The variance of N(0.5,0.5) is: 0.25 or 0.5\n",
      "The median of N(0.5,0.5) is: 0.5 or 0.5\n",
      "The kurtosis of N(0.5,0.5) is: 0.0\n",
      "The skewness of N(0.5,0.5) is: 0.0\n",
      "The 5-th order moment of N(0.5,0.5) is (approximately): 0.024609563671820767\n",
      "The N(0.5,0.5) log-likelihood of given data is: -550.814206754019\n"
     ]
    }
   ],
   "source": [
    "    import Distributions\n",
    "μ = 0.5; σ = 0.5;\n",
    "d = Distributions.Normal(μ,σ)\n",
    "\n",
    "println( \"The 25% quantile of N(0.5,0.5) is: \", Distributions.quantile(d, 0.25) )\n",
    "println( \"The entropy of N(0.5,0.5) is: \", Distributions.entropy(d), \" or evaluated on a base: \", Distributions.entropy(d, 0.2) )\n",
    "println( \"The mean value of N(0.5,0.5) is: \", Distributions.mean(d), \" or \", d.μ )\n",
    "println( \"The variance of N(0.5,0.5) is: \", Distributions.var(d), \" or \", d.σ )\n",
    "println( \"The median of N(0.5,0.5) is: \", Distributions.quantile(d, 0.5), \" or \", Distributions.median(d) )\n",
    "println( \"The kurtosis of N(0.5,0.5) is: \", Distributions.kurtosis(d) )\n",
    "println( \"The skewness of N(0.5,0.5) is: \", Distributions.skewness(d) )\n",
    "println( \"The 5-th order moment of N(0.5,0.5) is (approximately): \", Distributions.moment( rand(d, 500), 5 ) )\n",
    "println( \"The N(0.5,0.5) log-likelihood of given data is: \", Distributions.loglikelihood(d, randn(200) ) )"
   ]
  },
  {
   "cell_type": "markdown",
   "metadata": {},
   "source": [
    "## Generating random numbers from given distributions\n",
    "\n",
    "Generating random numbers from a given distribution, in fact, may require different technologies, but fortunately, `Distributions` has reloaded `Base.rand()` for almost supported distributions. an easier way is just use `rand(d,...)`:"
   ]
  },
  {
   "cell_type": "code",
   "execution_count": 103,
   "metadata": {},
   "outputs": [
    {
     "data": {
      "image/png": "[encoded data removed]",
      "text/plain": [
       "Figure(PyObject <Figure size 640x480 with 1 Axes>)"
      ]
     },
     "metadata": {},
     "output_type": "display_data"
    },
    {
     "name": "stdout",
     "output_type": "stream",
     "text": [
      "(2, 100)\n"
     ]
    }
   ],
   "source": [
    "d = Distributions.Beta(1.1,2.2)  # a Beta distribution instance\n",
    "rndnums1 = rand(d, 500)  # just pass the defined distribution and sample size to Base.rand\n",
    "\n",
    "d = Distributions.MvNormal( [1.0,2.0], [2.2 1.0; 1.0 1.5] )  # define a multivariate normal\n",
    "rndnums2 = rand(d, 100)  # each column is a sample, totally 100 columns and 2 rows\n",
    "\n",
    "hist(rndnums1, 40, density = true); println(size(rndnums2));"
   ]
  },
  {
   "cell_type": "markdown",
   "metadata": {},
   "source": [
    "However, when we define our own distribution type, we need to manually reload `Base.rand()` in some ways.\n",
    "There are some most common methods for different types of distributions to generate random numbers:\n",
    "1. for continuous distributions\n",
    "    1. for univariate distributions & multivariate distributions without dimension-correlations\n",
    "        1. the standard method is to compute inverse cdf function $x = F^{-1}(z)$ where $z$ is randomly generated from a (0,1) uniform distribution.\n",
    "        2. using filtering-like methods when analytical pdf known\n",
    "    2. for multivariate distributions with dimension correlations\n",
    "        1. sampling on each dimension then approximate given correlations\n",
    "        2. if copula applied, sampling on one dimensions then solve the other dimension\n",
    "2. for discrete distributions\n",
    "    1. for univariate distributions & multivariate distributions without dimension-correlations\n",
    "        1. project uniform (0,1) to probability space; i.e. concrete inverse cdf function\n",
    "    2. for multivariate distributions with dimension correlations\n",
    "        1. sampling without correlation first, then approximate the correlations\n",
    "        \n",
    "An inverse cdf function can be analytically defined or use interpolations to approximate (e.g. inv-cdf of normal distributions). If feasible, this method should be your first choice.\n",
    "Please consider using filtering-like methods only in the case of too-complicated distributions and small sample size."
   ]
  },
  {
   "cell_type": "markdown",
   "metadata": {},
   "source": [
    "To manually compute $F^{-1}(x)$ for case 1.A.a, the most common method, readers just need to do the following jobs if a distribution has been supported by `Distributions`:"
   ]
  },
  {
   "cell_type": "code",
   "execution_count": 86,
   "metadata": {},
   "outputs": [
    {
     "data": {
      "image/png": "[encoded data removed]",
      "text/plain": [
       "Figure(PyObject <Figure size 640x480 with 1 Axes>)"
      ]
     },
     "metadata": {},
     "output_type": "display_data"
    }
   ],
   "source": [
    "d = Distributions.Beta( 1.5, 2.5 ) # define a beta distribution with two parameters\n",
    "\n",
    "z = rand(5000); # sampling from (0,1) uniform, the prob space\n",
    "\n",
    "rndnums = Distributions.quantile.( d, z )  # quanitle(), in fact, is equivalent to inverse cdf\n",
    "\n",
    "hist(rndnums, 30, density = true)  # observe the distribution\n",
    "xlabel(\"x\"); ylabel(\"density\"); title(L\"\\beta(0.5,0.5)\");"
   ]
  },
  {
   "cell_type": "markdown",
   "metadata": {},
   "source": [
    "If readers are interested in the exact forms of different distributions' inverse cdf functions, please go to another package `StatsFuns`.\n",
    "It concludes over one hundred common statistical functions e.g. many distributions' cdf/ccdf/logcdf/logccdf/inv-cdf and many high-accuracy irrational constants like $\\sqrt{\\pi}$.\n",
    "This package is quite useful when someone wanna do high-accuracy, atom-level, low-level, performance-required statistical computations."
   ]
  },
  {
   "cell_type": "markdown",
   "metadata": {},
   "source": [
    "## Using MLE to fit given data\n",
    "\n",
    "`Distributions` also provides API to fit given data to a defined distribution.\n",
    "The following demo displays how to use `fit_mle()` to fit a given vector `x` to normal distribution:\n"
   ]
  },
  {
   "cell_type": "code",
   "execution_count": 93,
   "metadata": {},
   "outputs": [
    {
     "data": {
      "text/plain": [
       "Distributions.Normal{Float64}(μ=0.11849782529454288, σ=1.0283283771892215)"
      ]
     },
     "execution_count": 93,
     "metadata": {},
     "output_type": "execute_result"
    }
   ],
   "source": [
    "x = randn(1000) .+ 0.1  # sample data to fit, with a deviation\n",
    "\n",
    "Distributions.fit_mle(Distributions.Normal, x) # pass the type itself but not an instance Normal() to fit_mle\n",
    "# it returns a Normal(μ,σ) type instance"
   ]
  },
  {
   "cell_type": "markdown",
   "metadata": {},
   "source": [
    "By the way, there is another function `Distributions.fit()` which estimates a histogram from given data.\n",
    "This functions allows readers to customize their own histograms, e.g. estimating censored histograms.\n",
    "Readers who are interested in this function can read the documentations."
   ]
  },
  {
   "cell_type": "markdown",
   "metadata": {},
   "source": [
    "## Mixture models (look through)"
   ]
  },
  {
   "cell_type": "markdown",
   "metadata": {},
   "source": [
    "One thing prior to this subsection is that `Distributions` only defines mixture models with generic functions (e.g. `loglikelihood`) but not provide estimation procedures.\n",
    "Readers are required to use other packages, e.g. `GaussianMixtures`, to do estimations.\n",
    "And, because `Distributions` provides `loglikelihood` for defined mixture models,\n",
    "readers who wanna use their own estimation programs then can easily combine the standard model types with their programs.\n",
    "\n",
    "This is a general k-component mixture model:\n",
    "$$\n",
    "f(x; \\Theta, \\pi) = \\sum^K_{k=1} \\pi_k f(x;\\theta_k)\n",
    "$$\n",
    "It is defined by k component distributions with parameter $\\Theta = {\\theta_1,\\dots,\\theta_K}$, and a prior distribution $\\pi = {\\pi_1,\\dots,\\pi_K}$ of each component.\n",
    "Therefore, we can naturally define such a mixture model via `Distributions`:\n"
   ]
  },
  {
   "cell_type": "code",
   "execution_count": 100,
   "metadata": {},
   "outputs": [
    {
     "name": "stdout",
     "output_type": "stream",
     "text": [
      "Type of the 1st mixture model: Distributions.MixtureModel{Distributions.Univariate,Distributions.Continuous,Distributions.Distribution{Distributions.Univariate,Distributions.Continuous}}\n",
      "Type of the 2nd mixture model: Distributions.MixtureModel{Distributions.Univariate,Distributions.Continuous,Distributions.Normal}\n",
      "Type of the 3rd mixture model: Distributions.MixtureModel{Distributions.Univariate,Distributions.Continuous,Distributions.Normal{Float64}}\n"
     ]
    }
   ],
   "source": [
    "    import Distributions\n",
    "\n",
    "# define a mixture model composed by a normal distribution & a Beta distribution\n",
    "# NOTE: pass components with parameters in a list, as the 1st par to MixtureModel\n",
    "# NOTE: the 2nd par is a vector tells the prior probabilities of the two component distributions\n",
    "# NOTE: if prior probs missed, using even prior distrbution (e.g. [0.25,0.25,0.25,0.25])\n",
    "mixmod = Distributions.MixtureModel(\n",
    "    [Distributions.Normal(1.0,2.0),\n",
    "    Distributions.Beta(1.5,1.2)],\n",
    "    [ 0.4,0.6 ]\n",
    ")\n",
    "println(\"Type of the 1st mixture model: \",typeof(mixmod))\n",
    "\n",
    "# or we can define a mixture model with all the same distributions\n",
    "# NOTE: the following sentence defines a 3-component GMM (gaussian mixture model)\n",
    "mixmod = Distributions.MixtureModel(\n",
    "    Distributions.Normal, # first, indicate what kind of distribution to mix\n",
    "    [ (0.0,1.0), (1.2,2.5), (2.2,2.54) ], # parameter tuples in a collection\n",
    "    [ 0.2,0.3,0.5 ]  # prior distribution\n",
    ")\n",
    "println(\"Type of the 2nd mixture model: \",typeof(mixmod))\n",
    "\n",
    "# another method via map()\n",
    "mixmod = Distributions.MixtureModel(\n",
    "    map( mu -> Distributions.Normal(mu,1.2), [ 1.1,2.3,3.4 ] ), # using map() + annonymous function to generate similar components\n",
    "    [ 0.2,0.3,0.5 ]  # prior distribution\n",
    ")\n",
    "println(\"Type of the 3rd mixture model: \",typeof(mixmod))"
   ]
  },
  {
   "cell_type": "markdown",
   "metadata": {},
   "source": [
    "As shown above, readers can intuitively and easily define their custom mixture models even in which different kinds of distributions are mixed."
   ]
  },
  {
   "cell_type": "markdown",
   "metadata": {},
   "source": [
    "## How to create your new/proposed distributions\n",
    "\n",
    "So far, we have discussed many ways to work with defined distributions in Julia via `Distributions` package.\n",
    "But if one proposes a new kind of distribution, how can he/she integrate it into the current work-flow where he/she is able to operate the proposed distribution like operating other classical distributions already defined by `Distributions`?\n",
    "\n",
    "There is an official [instruction](https://juliastats.github.io/Distributions.jl/stable/extends.html) which tells people how to define their own distributions, and what functions/contents should be defined simultaneously.\n",
    "This instruction begins from creating a sampler, and ends at a list of all the functions (e.g. `mean`, `cdf`) we need to define."
   ]
  },
  {
   "cell_type": "markdown",
   "metadata": {},
   "source": [
    "# Sampling on Datasets\n",
    "\n",
    "Actually, we have already discussed how to sample from a given distribution in Section 4.\n",
    "So, in this section, we mainly focus on datasets:\n",
    "1. simple sampling on datasets\n",
    "2. bootstrapping on datasets\n",
    "3. stratified sampling on datasets\n",
    "\n",
    "I will only discuss several most-often used samplings in econometric research.\n",
    "However, I will only use small demos to discuss the spirits (or philosophy) to do sampling in Julia.\n",
    "Readers should design their custom sampling procedures based on these demos.\n",
    "After all, this blog is not specially for sampling techniques.\n"
   ]
  },
  {
   "cell_type": "markdown",
   "metadata": {},
   "source": [
    "## Simple sampling on datasets without replacement\n",
    "\n",
    "Julia has full-featured DataFrame type which is similar to R and Python's dataframes.\n",
    "This type and its operations are provided in package `DataFrames` ([documentation link](http://juliadata.github.io/DataFrames.jl/stable/)).\n",
    "In the next cell, we `using DataFrames` and create a data frame as example."
   ]
  },
  {
   "cell_type": "code",
   "execution_count": 39,
   "metadata": {},
   "outputs": [
    {
     "name": "stdout",
     "output_type": "stream",
     "text": [
      "the average close price is: 1.6598563320679809 or 1.6598563320679809\n"
     ]
    },
    {
     "data": {
      "text/html": [
       "<table class=\"data-frame\"><thead><tr><th></th><th>clpr</th><th>weather</th><th>mktidx</th><th>maleceo</th></tr></thead><tbody><tr><th>1</th><td>0.356156</td><td>rainy</td><td>0.933985</td><td>true</td></tr><tr><th>2</th><td>0.6093</td><td>rainy</td><td>0.900063</td><td>false</td></tr><tr><th>3</th><td>4.82291</td><td>rainy</td><td>1.63798</td><td>true</td></tr></tbody></table>"
      ],
      "text/plain": [
       "3×4 DataFrame\n",
       "│ Row │ clpr     │ weather │ mktidx   │ maleceo │\n",
       "│     │ \u001b[90mFloat64\u001b[39m  │ \u001b[90mString\u001b[39m  │ \u001b[90mFloat64\u001b[39m  │ \u001b[90mBool\u001b[39m    │\n",
       "├─────┼──────────┼─────────┼──────────┼─────────┤\n",
       "│ 1   │ 0.356156 │ rainy   │ 0.933985 │ true    │\n",
       "│ 2   │ 0.6093   │ rainy   │ 0.900063 │ false   │\n",
       "│ 3   │ 4.82291  │ rainy   │ 1.63798  │ true    │"
      ]
     },
     "execution_count": 39,
     "metadata": {},
     "output_type": "execute_result"
    }
   ],
   "source": [
    "    using DataFrames\n",
    "\n",
    "N = 5000 # sample size\n",
    "\n",
    "# NOTE: you can also convert a dictionary, a matrix or other data structures to a data frame\n",
    "x = DataFrame(\n",
    "    :clpr => exp.(randn(N)), # close price (also my github nickname)\n",
    "    :weather => [ rndnum > 0.5 ? \"sunny\" : \"rainy\" for rndnum in rand(N) ], # a nomial variable\n",
    "    :mktidx => exp.(randn(N) .* 0.5 .- 0.4), # market index\n",
    "    :maleceo => [ rndnum > 0.5 ? true : false for rndnum in rand(N) ], # ceo's bio sex\n",
    ")\n",
    "\n",
    "# compute the average close price (you may use mean() if using Statistics or StatsBase)\n",
    "# NOTE: displaying two common methods to refer the columns of a dataframe\n",
    "println(\"the average close price is: \", sum(x.clpr) / size(x)[1], \" or \", sum(x[:clpr]) / size(x)[1] )\n",
    "\n",
    "# display the first 5 lines of the dataframe; you may operate it like a matrix, or use head(), tail() like working in python\n",
    "head(x,3)"
   ]
  },
  {
   "cell_type": "markdown",
   "metadata": {},
   "source": [
    "Now, we are going to sample this dataset with 5000 observations without replacement.\n",
    "One important thing for all readers, no matter what environment they are using, is that:\n",
    "\n",
    "> always sample on index rather than the dataset it self\n",
    "\n",
    "This is performance-important esp. when sampling a dataset with many variables.\n",
    "In most sampling functions, it is index that is sampled rather than the data themselves.\n",
    "The following demo displays several ways to do simple sampling in Julia (sampling with replacement is introduced in the bootstrapping section):"
   ]
  },
  {
   "cell_type": "code",
   "execution_count": 42,
   "metadata": {},
   "outputs": [
    {
     "name": "stdout",
     "output_type": "stream",
     "text": [
      "  0.000142 seconds (39 allocations: 44.578 KiB)\n",
      "the size of subx is: (100, 4) and the size of original x is: (5000, 4)\n",
      "actually, simple sampling without replacement is equivalent to shuffle the whole dataset then get the top N observations.\n",
      "please note the number of allocations in timing resutls; it is small which shows that our sampling is efficient.\n",
      "  0.000078 seconds (55 allocations: 12.273 KiB)\n",
      "the size of subx is: (100, 4) and the size of original x is: (5000, 4)\n"
     ]
    }
   ],
   "source": [
    "    import Random # std lib, no need to install\n",
    "    import StatsBase # sample()\n",
    "\n",
    "N = 100; # sampling size\n",
    "\n",
    "# (no replacement) directly sample on the whole dataset, getting a dataframe with a specific number of rows\n",
    "# NOTE: using shuffle() + slice but not sample() + loop is to ensure the uniqueness of observations\n",
    "@time subx = x[ Random.shuffle(1:size(x)[1])[1:N], :]\n",
    "println(\"the size of subx is: \",size(subx),\" and the size of original x is: \", size(x))\n",
    "println(\"actually, simple sampling without replacement is equivalent to shuffle the whole dataset then get the top N observations.\")\n",
    "println(\"please note the number of allocations in timing resutls; it is small which shows that our sampling is efficient.\")\n",
    "\n",
    "# or, a more convenient way like sampling in R; indicating no replace\n",
    "# NOTE: by default, StatsBase.sample() does samplings WITH replacement\n",
    "@time subx = x[ StatsBase.sample(1:size(x)[1], N, replace = false ), :]\n",
    "println(\"the size of subx is: \",size(subx),\" and the size of original x is: \", size(x))"
   ]
  },
  {
   "cell_type": "markdown",
   "metadata": {},
   "source": [
    "## Bootstrappnig (sampling with replacement)"
   ]
  },
  {
   "cell_type": "markdown",
   "metadata": {},
   "source": [
    "Ordinary bootstrapping, in fact, is a kind of simple simpling **with** replacement.\n",
    "Here we introduce a recommended way, esp. when performance matter, to do sampling with replacement.\n",
    "When understanding the philosophy of this demo, readers are able to realize their own custom or complicated samplings."
   ]
  },
  {
   "cell_type": "code",
   "execution_count": 45,
   "metadata": {},
   "outputs": [
    {
     "name": "stdout",
     "output_type": "stream",
     "text": [
      "  0.000521 seconds (55 allocations: 324.938 KiB)\n",
      "the size of subx is: (10000, 4) and the size of original x is: (5000, 4)\n"
     ]
    }
   ],
   "source": [
    "    import StatsBase\n",
    "N = 10000; # sampling size, larger than original dataset\n",
    "\n",
    "# StatsBase.sample() return ONE element from an iterable object for each time\n",
    "# NOTE: a weight array can be passed to sample() for weighted samplings\n",
    "@time subx = x[ StatsBase.sample(1:size(x)[1], N, replace = true ), :]\n",
    "println(\"the size of subx is: \",size(x[tmpsampleidx, :]),\" and the size of original x is: \", size(x))"
   ]
  },
  {
   "cell_type": "markdown",
   "metadata": {},
   "source": [
    "Readers may easily integrate the sampling process with their estimation procedures when doing bootstrapping estimation or something else."
   ]
  },
  {
   "cell_type": "markdown",
   "metadata": {},
   "source": [
    "## Basic Stratified sampling on datasets"
   ]
  },
  {
   "cell_type": "markdown",
   "metadata": {},
   "source": [
    "In this subsection, I will talk about simple stratified sampling on datasets including:\n",
    "1. stratified by one discrete/classification variable\n",
    "2. stratified by one continuous variable\n",
    "3. stratified by two discrete variables\n",
    "4. ordinary Latin Hypercube Sampling (LHS)\n",
    "\n",
    "We will introduce the `by` method which groups a dataframe according to provided column(s) then allows us to do summarization.\n"
   ]
  },
  {
   "cell_type": "code",
   "execution_count": 4,
   "metadata": {},
   "outputs": [
    {
     "data": {
      "text/html": [
       "<table class=\"data-frame\"><thead><tr><th></th><th>clpr</th><th>weather</th><th>mktidx</th><th>maleceo</th></tr></thead><tbody><tr><th>1</th><td>1.20709</td><td>rainy</td><td>0.586102</td><td>true</td></tr><tr><th>2</th><td>1.27267</td><td>rainy</td><td>0.594145</td><td>false</td></tr><tr><th>3</th><td>0.174505</td><td>rainy</td><td>0.45284</td><td>true</td></tr><tr><th>4</th><td>2.4275</td><td>sunny</td><td>0.584651</td><td>false</td></tr><tr><th>5</th><td>1.15121</td><td>rainy</td><td>0.36475</td><td>false</td></tr></tbody></table>"
      ],
      "text/plain": [
       "5×4 DataFrames.DataFrame\n",
       "│ Row │ clpr     │ weather │ mktidx   │ maleceo │\n",
       "│     │ \u001b[90mFloat64\u001b[39m  │ \u001b[90mString\u001b[39m  │ \u001b[90mFloat64\u001b[39m  │ \u001b[90mBool\u001b[39m    │\n",
       "├─────┼──────────┼─────────┼──────────┼─────────┤\n",
       "│ 1   │ 1.20709  │ rainy   │ 0.586102 │ true    │\n",
       "│ 2   │ 1.27267  │ rainy   │ 0.594145 │ false   │\n",
       "│ 3   │ 0.174505 │ rainy   │ 0.45284  │ true    │\n",
       "│ 4   │ 2.4275   │ sunny   │ 0.584651 │ false   │\n",
       "│ 5   │ 1.15121  │ rainy   │ 0.36475  │ false   │"
      ]
     },
     "execution_count": 4,
     "metadata": {},
     "output_type": "execute_result"
    }
   ],
   "source": [
    "    import DataFrames # explicitly import DataFrames, to mark the package that a function belongs to\n",
    "    import StatsBase # sampling\n",
    "\n",
    "N = 200;\n",
    "# create a sample dataset\n",
    "x = DataFrames.DataFrame(\n",
    "    :clpr => exp.(randn(N)), # close price (also my github nickname)\n",
    "    :weather => [ rndnum > 0.5 ? \"sunny\" : \"rainy\" for rndnum in rand(N) ], # a nomial variable\n",
    "    :mktidx => exp.(randn(N) .* 0.5 .- 0.4), # market index\n",
    "    :maleceo => [ rndnum > 0.5 ? true : false for rndnum in rand(N) ], # ceo's bio sex\n",
    ")\n",
    "DataFrames.head(x,5)"
   ]
  },
  {
   "cell_type": "markdown",
   "metadata": {},
   "source": [
    "Here is a demo to sample by one discrete classification variable:"
   ]
  },
  {
   "cell_type": "code",
   "execution_count": 10,
   "metadata": {},
   "outputs": [
    {
     "data": {
      "text/html": [
       "<table class=\"data-frame\"><thead><tr><th></th><th>weather</th><th>clpr</th><th>mktidx</th><th>maleceo</th></tr></thead><tbody><tr><th>1</th><td>rainy</td><td>1.55635</td><td>0.858855</td><td>true</td></tr><tr><th>2</th><td>rainy</td><td>1.27267</td><td>0.594145</td><td>false</td></tr><tr><th>3</th><td>rainy</td><td>0.279622</td><td>0.728032</td><td>false</td></tr><tr><th>4</th><td>rainy</td><td>0.712357</td><td>1.23596</td><td>true</td></tr><tr><th>5</th><td>rainy</td><td>0.124182</td><td>0.46126</td><td>false</td></tr><tr><th>6</th><td>sunny</td><td>0.85691</td><td>0.607642</td><td>true</td></tr><tr><th>7</th><td>sunny</td><td>0.125333</td><td>0.779751</td><td>true</td></tr><tr><th>8</th><td>sunny</td><td>4.92774</td><td>0.396068</td><td>true</td></tr><tr><th>9</th><td>sunny</td><td>2.4768</td><td>0.605842</td><td>true</td></tr><tr><th>10</th><td>sunny</td><td>0.234063</td><td>1.1711</td><td>true</td></tr></tbody></table>"
      ],
      "text/plain": [
       "10×4 DataFrames.DataFrame\n",
       "│ Row │ weather │ clpr     │ mktidx   │ maleceo │\n",
       "│     │ \u001b[90mString\u001b[39m  │ \u001b[90mFloat64\u001b[39m  │ \u001b[90mFloat64\u001b[39m  │ \u001b[90mBool\u001b[39m    │\n",
       "├─────┼─────────┼──────────┼──────────┼─────────┤\n",
       "│ 1   │ rainy   │ 1.55635  │ 0.858855 │ true    │\n",
       "│ 2   │ rainy   │ 1.27267  │ 0.594145 │ false   │\n",
       "│ 3   │ rainy   │ 0.279622 │ 0.728032 │ false   │\n",
       "│ 4   │ rainy   │ 0.712357 │ 1.23596  │ true    │\n",
       "│ 5   │ rainy   │ 0.124182 │ 0.46126  │ false   │\n",
       "│ 6   │ sunny   │ 0.85691  │ 0.607642 │ true    │\n",
       "│ 7   │ sunny   │ 0.125333 │ 0.779751 │ true    │\n",
       "│ 8   │ sunny   │ 4.92774  │ 0.396068 │ true    │\n",
       "│ 9   │ sunny   │ 2.4768   │ 0.605842 │ true    │\n",
       "│ 10  │ sunny   │ 0.234063 │ 1.1711   │ true    │"
      ]
     },
     "execution_count": 10,
     "metadata": {},
     "output_type": "execute_result"
    }
   ],
   "source": [
    "# select 5 samples from \"sunny\" and 5 from \"rainy\", without replacement\n",
    "# NOTE: by() auto keep the group-by variable (:weather in this demo)\n",
    "subx = DataFrames.by(x, :weather, d -> d[ StatsBase.sample(1:size(d)[1], 5, replace = false) , [:clpr, :mktidx, :maleceo]] )\n",
    "subx"
   ]
  },
  {
   "cell_type": "markdown",
   "metadata": {},
   "source": [
    "Here is a demo to sample by one continuous variable: we randomly select 2 observations for each quantiles section of variable \"clpr\": $[0\\%,25\\%)$, $[25\\%,50\\%)$, $[50\\%,75\\%)$, $[75\\%,100\\%]$."
   ]
  },
  {
   "cell_type": "code",
   "execution_count": 26,
   "metadata": {},
   "outputs": [
    {
     "name": "stdout",
     "output_type": "stream",
     "text": [
      "(8, 4)\n"
     ]
    },
    {
     "data": {
      "text/html": [
       "<table class=\"data-frame\"><thead><tr><th></th><th>group</th><th>clpr</th><th>mktidx</th><th>maleceo</th></tr></thead><tbody><tr><th>1</th><td>3</td><td>1.23761</td><td>0.822901</td><td>false</td></tr><tr><th>2</th><td>3</td><td>1.3271</td><td>1.29656</td><td>true</td></tr><tr><th>3</th><td>1</td><td>0.529553</td><td>1.16043</td><td>true</td></tr><tr><th>4</th><td>1</td><td>0.281166</td><td>0.894156</td><td>false</td></tr><tr><th>5</th><td>4</td><td>3.86458</td><td>0.982975</td><td>false</td></tr><tr><th>6</th><td>4</td><td>2.57357</td><td>1.19484</td><td>false</td></tr><tr><th>7</th><td>2</td><td>0.593389</td><td>1.49462</td><td>true</td></tr><tr><th>8</th><td>2</td><td>0.990345</td><td>1.12023</td><td>false</td></tr></tbody></table>"
      ],
      "text/plain": [
       "8×4 DataFrames.DataFrame\n",
       "│ Row │ group  │ clpr     │ mktidx   │ maleceo │\n",
       "│     │ \u001b[90mString\u001b[39m │ \u001b[90mFloat64\u001b[39m  │ \u001b[90mFloat64\u001b[39m  │ \u001b[90mBool\u001b[39m    │\n",
       "├─────┼────────┼──────────┼──────────┼─────────┤\n",
       "│ 1   │ 3      │ 1.23761  │ 0.822901 │ false   │\n",
       "│ 2   │ 3      │ 1.3271   │ 1.29656  │ true    │\n",
       "│ 3   │ 1      │ 0.529553 │ 1.16043  │ true    │\n",
       "│ 4   │ 1      │ 0.281166 │ 0.894156 │ false   │\n",
       "│ 5   │ 4      │ 3.86458  │ 0.982975 │ false   │\n",
       "│ 6   │ 4      │ 2.57357  │ 1.19484  │ false   │\n",
       "│ 7   │ 2      │ 0.593389 │ 1.49462  │ true    │\n",
       "│ 8   │ 2      │ 0.990345 │ 1.12023  │ false   │"
      ]
     },
     "execution_count": 26,
     "metadata": {},
     "output_type": "execute_result"
    }
   ],
   "source": [
    "# NOTE: by() does not support continuous variable, so we do stratification by ourselves then apply this method\n",
    "\n",
    "# first, get quantiles\n",
    "tmpqt_clpr = StatsBase.quantile( x.clpr, [0.0, 0.25, 0.5, 0.75, 1.0])\n",
    "# then, add a column to mark stratifications\n",
    "x.group = [\"0\" for x in 1:size(x)[1]]\n",
    "# mark every group (use two-side closed form, then the right bound will be covered by the next section's left bound)\n",
    "for idx in 1:(length(tmpqt_clpr)-1)\n",
    "   x.group[ tmpqt_clpr[idx] .<= x.clpr .<= tmpqt_clpr[idx+1], : ] .= string(idx)\n",
    "end\n",
    "# finally, applying by() method (without replacement)\n",
    "subx = DataFrames.by(x, :group, d -> d[ StatsBase.sample(1:size(d)[1], 2, replace = false) , [:clpr, :mktidx, :maleceo]] )\n",
    "# display the sample size\n",
    "println(size(subx))\n",
    "# display marked dataset\n",
    "subx"
   ]
  },
  {
   "cell_type": "markdown",
   "metadata": {},
   "source": [
    "Through marking groups in categorical variable(s), we then are able to use `by()` method to quickly sampling by groups.\n",
    "When we want to sample a dataset with two or more stratification variables, we just need to repeat the above procedures.\n",
    "For example:"
   ]
  },
  {
   "cell_type": "code",
   "execution_count": 29,
   "metadata": {},
   "outputs": [
    {
     "data": {
      "text/html": [
       "<table class=\"data-frame\"><thead><tr><th></th><th>group</th><th>weather</th><th>clpr</th><th>mktidx</th><th>maleceo</th></tr></thead><tbody><tr><th>1</th><td>3</td><td>rainy</td><td>1.51515</td><td>1.19951</td><td>false</td></tr><tr><th>2</th><td>3</td><td>rainy</td><td>1.17304</td><td>0.64017</td><td>true</td></tr><tr><th>3</th><td>1</td><td>rainy</td><td>0.279622</td><td>0.728032</td><td>false</td></tr><tr><th>4</th><td>1</td><td>rainy</td><td>0.373403</td><td>0.355167</td><td>false</td></tr><tr><th>5</th><td>4</td><td>sunny</td><td>4.16674</td><td>1.2475</td><td>false</td></tr><tr><th>6</th><td>4</td><td>sunny</td><td>4.42169</td><td>0.807621</td><td>true</td></tr><tr><th>7</th><td>1</td><td>sunny</td><td>0.540729</td><td>1.61728</td><td>false</td></tr><tr><th>8</th><td>1</td><td>sunny</td><td>0.418763</td><td>0.25512</td><td>false</td></tr><tr><th>9</th><td>2</td><td>sunny</td><td>0.85691</td><td>0.607642</td><td>true</td></tr><tr><th>10</th><td>2</td><td>sunny</td><td>0.990345</td><td>1.12023</td><td>false</td></tr><tr><th>11</th><td>3</td><td>sunny</td><td>1.22851</td><td>0.632079</td><td>true</td></tr><tr><th>12</th><td>3</td><td>sunny</td><td>1.80774</td><td>0.265533</td><td>true</td></tr><tr><th>13</th><td>2</td><td>rainy</td><td>0.770568</td><td>0.778474</td><td>false</td></tr><tr><th>14</th><td>2</td><td>rainy</td><td>0.723961</td><td>1.96179</td><td>true</td></tr><tr><th>15</th><td>4</td><td>rainy</td><td>2.46133</td><td>0.926638</td><td>false</td></tr><tr><th>16</th><td>4</td><td>rainy</td><td>2.79937</td><td>0.333444</td><td>true</td></tr></tbody></table>"
      ],
      "text/plain": [
       "16×5 DataFrames.DataFrame\n",
       "│ Row │ group  │ weather │ clpr     │ mktidx   │ maleceo │\n",
       "│     │ \u001b[90mString\u001b[39m │ \u001b[90mString\u001b[39m  │ \u001b[90mFloat64\u001b[39m  │ \u001b[90mFloat64\u001b[39m  │ \u001b[90mBool\u001b[39m    │\n",
       "├─────┼────────┼─────────┼──────────┼──────────┼─────────┤\n",
       "│ 1   │ 3      │ rainy   │ 1.51515  │ 1.19951  │ false   │\n",
       "│ 2   │ 3      │ rainy   │ 1.17304  │ 0.64017  │ true    │\n",
       "│ 3   │ 1      │ rainy   │ 0.279622 │ 0.728032 │ false   │\n",
       "│ 4   │ 1      │ rainy   │ 0.373403 │ 0.355167 │ false   │\n",
       "│ 5   │ 4      │ sunny   │ 4.16674  │ 1.2475   │ false   │\n",
       "│ 6   │ 4      │ sunny   │ 4.42169  │ 0.807621 │ true    │\n",
       "│ 7   │ 1      │ sunny   │ 0.540729 │ 1.61728  │ false   │\n",
       "│ 8   │ 1      │ sunny   │ 0.418763 │ 0.25512  │ false   │\n",
       "│ 9   │ 2      │ sunny   │ 0.85691  │ 0.607642 │ true    │\n",
       "│ 10  │ 2      │ sunny   │ 0.990345 │ 1.12023  │ false   │\n",
       "│ 11  │ 3      │ sunny   │ 1.22851  │ 0.632079 │ true    │\n",
       "│ 12  │ 3      │ sunny   │ 1.80774  │ 0.265533 │ true    │\n",
       "│ 13  │ 2      │ rainy   │ 0.770568 │ 0.778474 │ false   │\n",
       "│ 14  │ 2      │ rainy   │ 0.723961 │ 1.96179  │ true    │\n",
       "│ 15  │ 4      │ rainy   │ 2.46133  │ 0.926638 │ false   │\n",
       "│ 16  │ 4      │ rainy   │ 2.79937  │ 0.333444 │ true    │"
      ]
     },
     "execution_count": 29,
     "metadata": {},
     "output_type": "execute_result"
    }
   ],
   "source": [
    "# sampling on x, simultaneously stratified by \"clpr\" (continuous) & \"weather\" (categorical)\n",
    "# for each (clpr section, weather status) pair, we sample 2 observations on x\n",
    "# NOTE: total 2 (num of weather status) * 4 (num of clpr sections) * 2 (num of obs for each pair) = 16 obs are sampled\n",
    "\n",
    "# 1. marking the groups of \"clpr\"\n",
    "tmpqt_clpr = StatsBase.quantile( x.clpr, [0.0, 0.25, 0.5, 0.75, 1.0])\n",
    "x.group = [\"0\" for x in 1:size(x)[1]]\n",
    "for idx in 1:(length(tmpqt_clpr)-1)\n",
    "   x.group[ tmpqt_clpr[idx] .<= x.clpr .<= tmpqt_clpr[idx+1], : ] .= string(idx)\n",
    "end\n",
    "\n",
    "# 2. then sampling via DataFrames.by() --> multiple groups, (without replacement)\n",
    "subx = DataFrames.by( x, [:group, :weather], d -> d[ StatsBase.sample(1:size(d)[1], 2, replace = false) , [:clpr, :mktidx, :maleceo]] ) \n",
    "\n",
    "# display the sample dataset\n",
    "subx"
   ]
  },
  {
   "cell_type": "markdown",
   "metadata": {},
   "source": [
    "Readers may find the above methodologies can be easily applied when doing stratified bootstrapping: just let `replace = true` then everything is OK."
   ]
  },
  {
   "cell_type": "markdown",
   "metadata": {},
   "source": [
    "# Hypothesis Testing\n",
    "\n",
    "In this section, I introduce the Julia realizations of common hypothesis testings.\n",
    "These realizations mainly depend on the package `HypothesisTests` which is under `JuliaStats` project.\n",
    "Please note, I cannot talk about all kinds of hypothesis tests but only discuss those the most common in research.\n",
    "They are:\n",
    "\n",
    "|Test | Name in `HypothesisTests` | Note |\n",
    "|:-----|:---------------------------|:------|\n",
    "| One-sample mean value Z test (for big sample size) | `OneSampleZTest` | testing if a given sample has a given mean value $\\mu_0$ |\n",
    "| One-sample mean value t test (for small sample size) | `OneSampleTTest` | testing if a given sample has a given mean value $\\mu_0$ |\n"
   ]
  },
  {
   "cell_type": "code",
   "execution_count": 5,
   "metadata": {},
   "outputs": [],
   "source": [
    "    import HypothesisTests # import to indicate each object's namespace\n",
    "    import StatsBase # basic statistics"
   ]
  },
  {
   "cell_type": "code",
   "execution_count": 20,
   "metadata": {
    "scrolled": false
   },
   "outputs": [
    {
     "name": "stdout",
     "output_type": "stream",
     "text": [
      "One sample z-test\n",
      "-----------------\n",
      "Population details:\n",
      "    parameter of interest:   Mean\n",
      "    value under h_0:         0.5\n",
      "    point estimate:          0.021797412855237407\n",
      "    95% confidence interval: (-0.0713, 0.1149)\n",
      "\n",
      "Test summary:\n",
      "    outcome with 95% confidence: reject h_0\n",
      "    two-sided p-value:           <1e-23\n",
      "\n",
      "Details:\n",
      "    number of observations:   500\n",
      "    z-statistic:              -10.070489031528334\n",
      "    population standard error: 0.04748553775766229\n",
      "\n",
      "the pvalue is: 7.46061954466266e-24\n",
      "---------------------------------------- I am the cut line ----------------------------------------\n",
      "One sample t-test\n",
      "-----------------\n",
      "Population details:\n",
      "    parameter of interest:   Mean\n",
      "    value under h_0:         0\n",
      "    point estimate:          0.4436105033175014\n",
      "    95% confidence interval: (0.1117, 0.7756)\n",
      "\n",
      "Test summary:\n",
      "    outcome with 95% confidence: reject h_0\n",
      "    two-sided p-value:           0.0115\n",
      "\n",
      "Details:\n",
      "    number of observations:   20\n",
      "    t-statistic:              2.7970387325930632\n",
      "    degrees of freedom:       19\n",
      "    empirical standard error: 0.1586000573207084\n",
      "\n",
      "---------------------------------------- I am the cut line ----------------------------------------\n"
     ]
    }
   ],
   "source": [
    "# sample data drawn from a N(0,1)\n",
    "x = randn(500)\n",
    "\n",
    "# 1. one-sample mean value test: Z test (N>=30); given assumed mean value 0.5; \n",
    "# H0: x is from a distribution with mean value 0.5\n",
    "tmp = HypothesisTests.OneSampleZTest( x, 0.5 )\n",
    "println(tmp)\n",
    "println(\"the pvalue is: \", HypothesisTests.pvalue(tmp) ) # if you wanna get the pvalue\n",
    "println(\"-\"^40*\" I am the cut line \"*\"-\"^40 )\n",
    "\n",
    "# 2. one-sample mean value test: t test (N<30); given assumed mean value 0.0 (by default)\n",
    "tmp = HypothesisTests.OneSampleTTest( x[1:20] )\n",
    "println(tmp)\n",
    "println(\"-\"^40*\" I am the cut line \"*\"-\"^40 )\n",
    "\n"
   ]
  },
  {
   "cell_type": "code",
   "execution_count": 2,
   "metadata": {},
   "outputs": [
    {
     "data": {
      "text/markdown": [
       "```\n",
       "OneSampleZTest(xbar::Real, stddev::Real, n::Int, μ0::Real = 0)\n",
       "```\n",
       "\n",
       "Perform a one sample z-test of the null hypothesis that `n` values with mean `xbar` and population standard deviation `stddev`  come from a distribution with mean `μ0` against the alternative hypothesis that the distribution does not have mean `μ0`.\n",
       "\n",
       "Implements: [`pvalue`](@ref), [`confint`](@ref)\n",
       "\n",
       "---\n",
       "\n",
       "```\n",
       "OneSampleZTest(v::AbstractVector{T<:Real}, μ0::Real = 0)\n",
       "```\n",
       "\n",
       "Perform a one sample z-test of the null hypothesis that the data in vector `v` comes from a distribution with mean `μ0` against the alternative hypothesis that the distribution does not have mean `μ0`.\n",
       "\n",
       "Implements: [`pvalue`](@ref), [`confint`](@ref)\n",
       "\n",
       "---\n",
       "\n",
       "```\n",
       "OneSampleZTest(x::AbstractVector{T<:Real}, y::AbstractVector{T<:Real}, μ0::Real = 0)\n",
       "```\n",
       "\n",
       "Perform a paired sample z-test of the null hypothesis that the differences between pairs of values in vectors `x` and `y` come from a distribution with mean `μ0` against the alternative hypothesis that the distribution does not have mean `μ0`.\n",
       "\n",
       "Implements: [`pvalue`](@ref), [`confint`](@ref)\n"
      ],
      "text/plain": [
       "\u001b[36m  OneSampleZTest(xbar::Real, stddev::Real, n::Int, μ0::Real = 0)\u001b[39m\n",
       "\n",
       "  Perform a one sample z-test of the null hypothesis that \u001b[36mn\u001b[39m values with mean\n",
       "  \u001b[36mxbar\u001b[39m and population standard deviation \u001b[36mstddev\u001b[39m come from a distribution with\n",
       "  mean \u001b[36mμ0\u001b[39m against the alternative hypothesis that the distribution does not\n",
       "  have mean \u001b[36mμ0\u001b[39m.\n",
       "\n",
       "  Implements: \u001b[36mpvalue\u001b[39m, \u001b[36mconfint\u001b[39m\n",
       "\n",
       "  ────────────────────────────────────────────────────────────────────────────\n",
       "\n",
       "\u001b[36m  OneSampleZTest(v::AbstractVector{T<:Real}, μ0::Real = 0)\u001b[39m\n",
       "\n",
       "  Perform a one sample z-test of the null hypothesis that the data in vector \u001b[36mv\u001b[39m\n",
       "  comes from a distribution with mean \u001b[36mμ0\u001b[39m against the alternative hypothesis\n",
       "  that the distribution does not have mean \u001b[36mμ0\u001b[39m.\n",
       "\n",
       "  Implements: \u001b[36mpvalue\u001b[39m, \u001b[36mconfint\u001b[39m\n",
       "\n",
       "  ────────────────────────────────────────────────────────────────────────────\n",
       "\n",
       "\u001b[36m  OneSampleZTest(x::AbstractVector{T<:Real}, y::AbstractVector{T<:Real}, μ0::Real = 0)\u001b[39m\n",
       "\n",
       "  Perform a paired sample z-test of the null hypothesis that the differences\n",
       "  between pairs of values in vectors \u001b[36mx\u001b[39m and \u001b[36my\u001b[39m come from a distribution with\n",
       "  mean \u001b[36mμ0\u001b[39m against the alternative hypothesis that the distribution does not\n",
       "  have mean \u001b[36mμ0\u001b[39m.\n",
       "\n",
       "  Implements: \u001b[36mpvalue\u001b[39m, \u001b[36mconfint\u001b[39m"
      ]
     },
     "execution_count": 2,
     "metadata": {},
     "output_type": "execute_result"
    }
   ],
   "source": []
  },
  {
   "cell_type": "code",
   "execution_count": 11,
   "metadata": {},
   "outputs": [
    {
     "data": {
      "text/plain": [
       "3.6792741429277924e-11"
      ]
     },
     "execution_count": 11,
     "metadata": {},
     "output_type": "execute_result"
    }
   ],
   "source": [
    "x = randn(200);\n",
    "\n",
    "tmp = HypothesisTests.OneSampleZTest( x, 0.5 )\n",
    "\n",
    "HypothesisTests.pvalue(tmp)"
   ]
  },
  {
   "cell_type": "code",
   "execution_count": 4,
   "metadata": {},
   "outputs": [
    {
     "data": {
      "text/plain": [
       "200-element Array{Float64,1}:\n",
       " -0.5593552340875388 \n",
       " -1.3160997754943269 \n",
       "  0.4521708593148437 \n",
       "  1.1558848907385253 \n",
       " -1.2121995891029196 \n",
       "  0.1180305393179561 \n",
       "  0.20604384868444356\n",
       "  1.1381633919343825 \n",
       "  1.1397509013860068 \n",
       " -0.23335517261197158\n",
       "  0.4279631282772681 \n",
       "  0.979475404747953  \n",
       " -0.6810888175544408 \n",
       "  ⋮                  \n",
       "  1.042849996057027  \n",
       "  1.2531740931096478 \n",
       "  1.8995935556958004 \n",
       " -0.4225223875659757 \n",
       "  0.4419975312301379 \n",
       " -0.45802406445289695\n",
       " -1.7606679835601466 \n",
       "  1.451546031443508  \n",
       "  0.19635910597652304\n",
       "  0.30687912993626393\n",
       " -0.4646274052777449 \n",
       " -0.8466180152261225 "
      ]
     },
     "execution_count": 4,
     "metadata": {},
     "output_type": "execute_result"
    }
   ],
   "source": []
  },
  {
   "cell_type": "code",
   "execution_count": null,
   "metadata": {},
   "outputs": [],
   "source": []
  },
  {
   "cell_type": "code",
   "execution_count": null,
   "metadata": {},
   "outputs": [],
   "source": []
  },
  {
   "cell_type": "code",
   "execution_count": null,
   "metadata": {},
   "outputs": [],
   "source": []
  },
  {
   "cell_type": "code",
   "execution_count": null,
   "metadata": {},
   "outputs": [],
   "source": []
  },
  {
   "cell_type": "code",
   "execution_count": null,
   "metadata": {},
   "outputs": [],
   "source": []
  },
  {
   "cell_type": "code",
   "execution_count": null,
   "metadata": {},
   "outputs": [],
   "source": []
  },
  {
   "cell_type": "code",
   "execution_count": null,
   "metadata": {},
   "outputs": [],
   "source": []
  },
  {
   "cell_type": "code",
   "execution_count": null,
   "metadata": {},
   "outputs": [],
   "source": []
  }
 ],
 "metadata": {
  "kernelspec": {
   "display_name": "Julia 1.0.3",
   "language": "julia",
   "name": "julia-1.0"
  },
  "language_info": {
   "file_extension": ".jl",
   "mimetype": "application/julia",
   "name": "julia",
   "version": "1.0.3"
  },
  "toc": {
   "base_numbering": 1,
   "nav_menu": {},
   "number_sections": true,
   "sideBar": true,
   "skip_h1_title": false,
   "title_cell": "Current Table of Contents",
   "title_sidebar": "Contents",
   "toc_cell": true,
   "toc_position": {
    "height": "calc(100% - 180px)",
    "left": "10px",
    "top": "150px",
    "width": "384px"
   },
   "toc_section_display": true,
   "toc_window_display": true
  },
  "varInspector": {
   "cols": {
    "lenName": 16,
    "lenType": 16,
    "lenVar": 40
   },
   "kernels_config": {
    "python": {
     "delete_cmd_postfix": "",
     "delete_cmd_prefix": "del ",
     "library": "var_list.py",
     "varRefreshCmd": "print(var_dic_list())"
    },
    "r": {
     "delete_cmd_postfix": ") ",
     "delete_cmd_prefix": "rm(",
     "library": "var_list.r",
     "varRefreshCmd": "cat(var_dic_list()) "
    }
   },
   "types_to_exclude": [
    "module",
    "function",
    "builtin_function_or_method",
    "instance",
    "_Feature"
   ],
   "window_display": false
  }
 },
 "nbformat": 4,
 "nbformat_minor": 2
}
