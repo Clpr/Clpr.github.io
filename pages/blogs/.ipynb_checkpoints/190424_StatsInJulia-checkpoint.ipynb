{
 "cells": [
  {
   "cell_type": "markdown",
   "metadata": {},
   "source": [
    "# Doing statistics/econometrics in Julia 1.0\n",
    "\n",
    "* author: Tianhao Zhao\n",
    "* date: April 4, 2019\n",
    "* copyright: free\n",
    "\n",
    "-------------------\n",
    "\n",
    "## Table of Contents\n",
    "1. [Introduction](#introduction)\n",
    "1. [What Packages Used?](#WhatPkgUsed)\n",
    "1. [Descriptive Statistics](#descriptivestats)\n",
    "1. [Distributions](#distributions)\n",
    "1. [Sampling & Simulations](#sampling)\n",
    "1. [Hypothesis Testing](#hypothesistesting)\n",
    "1. [Linear Regression & GLM](#linearregression)\n",
    "1. [Clustering, Classification, PCA/Factor and Others](#otherstatmodels)\n",
    "    1.[Clustering](#clustering)\n",
    "    1.[Classification](#classification)\n",
    "    1.[PCA/Factor Analysis](#pcafactor)\n",
    "    1.[Mixture Models](#mixturemodels)\n",
    "1. [Econometrics Topics](#econometrictopics)\n",
    "    1.[Time Series](#timeseries)\n",
    "    1.[Panel Data Models](#panelmodel)\n",
    "    1.[Quantile Models](#quantilemodels)\n",
    "    1.[Structural Models](#structuralmodels)\n",
    "    1.[Filters](#filters)\n",
    "    1.[MCMC](#mcmc)\n",
    "    1.[Beyasian Econometrics](#beyasianeconometrics)\n",
    "1. [Develop Your Own Statistical Models in a Standard Work Flow](#devyourstatmods)\n",
    "\n",
    "\n",
    "## 1. Introduction <a name=\"introduction\"></a>\n",
    "\n",
    "In another [blog](190421_PrepareYourJuliaPkg.html) where I introduced how to prepare your Julia 1.0 for economic research, I roughly discussed the statistics/econometrics in Julia in the conclusion section.\n",
    "Though there is still a long way for Julia to go in econometrics, we can now do many fantastic jobs in statistics.\n",
    "This blog discusses how to do basic statistics in Julia 1.0.\n",
    "It depends on `JuliaStats` project and its packages. This is a project initiated by the Julia official. It is the base of the statistics in Julia language.\n",
    "\n",
    "In Section [2](#WhatPkgUsed), I provide a full list of the packages under `JuliaStats` project and some other packages. We will use these packages in this blog.\n",
    "In Section [3](#descriptivestats), I introduce how to use Julia do descriptive Statistics, e.g. histogram, QQ-plot.\n",
    "In Section [4](#distributions), I introduce how to play with many statistical distributions in Julia.\n",
    "In Section [5](#sampling), I introduce how to sampling on distributions or datasets.\n",
    "In Section [6](#hypothesistesting), I introduce how to do hypothesis tests e.g. two-sample F tests.\n",
    "In Section [7](#linearregression), I introduce how to do basic regression analysis with `MultivariateStats` and `GLM` packages.\n",
    "In Section [8](#otherstatmodels), I introduce how to do other common statistical analysis such as clustering and PCA.\n",
    "In Section [9](#econometrictopics), I discuss what other functions are required but not provided yet if we want to do more-specific econometric research, e.g. quantile regression and panel data models.\n",
    "\n",
    "<font color = red><b>This blog will be updated by time. Not finished when published.</b></font>"
   ]
  },
  {
   "cell_type": "markdown",
   "metadata": {},
   "source": [
    "## 2. What Packages Used? <a name = \"WhatPkgUsed\"></a>\n",
    "\n",
    "In this section, I talk about what packages to use in the next sections. About how to install Julia packages, please read my another [blog](190421_PrepareYourJuliaPkg.html).\n",
    "Please note, we do not use R/Python's API via `RCall`/`PyCall` (except plotting with `PyPlot`) since we are talking about the statistics in Julia.\n",
    "Meanwhile, this blog cannot cover every function of each package. Readers may be like to read these packages' documentations through searching their names on Github.\n",
    "\n",
    "`JuliaStats` is a project initiated by Julia official. Its website is: [JuliaStats.org](https://juliastats.github.io/).\n",
    "This project aims to make Julia become powerful in statistics (well ... not specially for econometrics).\n",
    "It has been the foundation of many ML/DL pacakges of Julia.\n",
    "The reason why we mainly talk about this project is that `JuliaStats` is like `SciPy` for Python or `stats` for R.\n",
    "It is expected to be the foundation of Julia statistics.\n",
    "\n",
    "There are 15 packages under `JuliaStats` project now. The following table is modified from the [documentation page](https://juliastats.github.io/) of `JuliaStats`:\n",
    "\n",
    "|Package|Task|Mainly for|\n",
    "|----|----|-----|\n",
    "|StatsBase|Basic functionalities for statistics| Descriptive statistics; sampling; ranking; weights; correlation/auto-correlation |\n",
    "|StatsModels|Interfaces for statistical models| R-style `@formula`; abstrations for statistical model development |\n",
    "|DataFrames|Essential tools for tabular data| Data structure and operations for regression datasets |\n",
    "|Distributions| Probability distributions | A large number of univariate/multivariate distributions; descriptive stats; moments/pdf/cdf/mgf, sampling, MLE |\n",
    "|MultivariateStats|Multivariate statistical analysis | Matrix-based API for linear (e.g. LS, Lasso, Ridge) models, dimensionallity reduction, scaling, linear discriminant analysis|\n",
    "|HypothesisTests|Hypothesis tests| Parametric and Nonparametric tests|\n",
    "|MLBase| Swiss knife for machine learning| Data preprocessing; classifications; performance evaluation; model selectionn; cross-validation |\n",
    "|Distances| Various distances between vectors |  |\n",
    "|KernelDensity| Kernel density estimation| For univariate/multivariate/bivariate data; user customization of interpolation points/kernel/bandwidth |\n",
    "|Clustering| Algorithms for data clustering| K-means/medoids; Affinity propagation; Performance evaluation etc.|\n",
    "|<font color=red>GLM</font>| Generalized linear models| R-style API |\n",
    "|NMF| Nonnegative matrix factorization | NMF algorithms; NNDSVD |\n",
    "|RegERMs | Lasso/Elastic Net linear and GLMs | glmnet; polynomial trend filtering; O(n) fused Lasso; Gamma Lasso |\n",
    "|Klara| Markov Chain Monte Carlo (MCMC) | engine for Beyasian inference; samplers using latest techniques; user-friendly syntax for model specification; Ability to suspend and resume |\n",
    "|TimeSeries| Time series analysis | Tools to represent, manipulate and apply computation to time series data|\n",
    "\n",
    "In this blog, we talk about most of these pacakges but not all of them.\n",
    "I will explicitly mention what packages that a function belongs to when talking about it for the first time.\n",
    "\n",
    "Meanwhile, we use `PyPlot` as our visualization package, and do not use `Plots` as frontend. Matlab & Python users may see many familiar sentences.\n"
   ]
  },
  {
   "cell_type": "markdown",
   "metadata": {},
   "source": [
    "## 3. Descriptive Statistics <a name = \"descriptivestats\"></a>\n",
    "\n",
    "In this section, we talk about how to use Julia to do common descriptive statistics.\n",
    "This section consists of:\n",
    "1. Making a table of descriptive statistics: `mean`, `std`, `qunatile` etc.\n",
    "2. Plotting: histogram, kernel density, QQ-plot\n",
    "3. Plotting: line, bar, scatter, box\n",
    "4. Distributions: pdf, cdf, inv-cdf, mgf (moment generating function) ...\n",
    "5. Normality tests\n",
    "\n",
    "Subsections 2, 3 which are about visualization are not emphasized, because they are more related to the usage of specific visualization tools (e.g. `PyPlot`) than statistical principles.\n",
    "\n",
    "### 3.1 Making a table of descriptive statistics\n",
    "\n",
    "When introducing a dataset in paper, authors are usually required to provide a summary table like:\n",
    "\n",
    "|Variable|N| min| 25% quantile | median | mean | std | 75% quantile | max |\n",
    "|----|---|---|----|---|---|---|-----|---|\n",
    "|y| 100| -1.00 | -0.24 | -0.20 | -0.18 | 2.34 | 0.23 | 0.76 |\n",
    "|x| 100| 23.22 | 25.03 | 27.98 | 26.33 | 0.54 | 29.22| 31.43|\n",
    "\n",
    "To make such a table, readers need to learn:\n",
    "1. how to compute basic statistics, e.g. sample size, mean and std, for a single variable\n",
    "2. how to construct or format such a table\n",
    "\n",
    "For the two tasks, there may be some easy-APIs to automatically compute everything then do formatting.\n",
    "But we will finish the two jobs step by step, to get familiar with Julia's statistics.\n",
    "\n",
    "Before Julia 0.7, common descriptive statistical methods, e.g. `mean`, are included in core Julia, which means users do not need to explicitly import/using a package to introduce them.\n",
    "But since v0.7, these functions are separated to a standard library `StatsBase`.\n",
    "(Yes, this package is one part of `JuliaStats` project)\n",
    "Now, we introduce this package then see several demos which show how to do basic statistics.\n",
    "\n",
    "P.S. to explicitly display which pacakge a function belong to, we use `import` but not `using` to keep introduced packages private. But in practice, we usually `using StatsBase` to expose all exportable objects to current namespace to avoid re-writing \"StatsBase\" times by times"
   ]
  },
  {
   "cell_type": "code",
   "execution_count": 6,
   "metadata": {},
   "outputs": [
    {
     "name": "stdout",
     "output_type": "stream",
     "text": [
      "Please note the type of x: Array{Float64,1} which is a synonym of Vector{Float64,1}\n",
      "mean value: 0.48521158882357773\n",
      "standard error: 0.3076766420738591\n",
      "variance: 0.09466491607784558\n",
      "kurtosis: -1.2816435764149026\n",
      "skewness: -0.028430831233924724\n",
      "5th order sample central moment: 4.362788972667082e-5\n",
      "min  value & its location in x: (0.001958103627337726, 55)\n",
      "max  value & its location in x: (0.9972898039542897, 36)\n",
      "25% quantile: 0.17948895852651403\n",
      "75% quantile: 0.7573790184326592\n",
      "median: 0.5137663782501359 which is equivalent to 50% quantile: 0.5137663782501359\n",
      "mode: 0.7496324372043717\n"
     ]
    }
   ],
   "source": [
    "# julia 1.0\n",
    "    import StatsBase\n",
    "\n",
    "# generate a random vector (one-way Array) from a [0,1] uniform distributions; rand() & randn() are kept in core Julia\n",
    "x = rand(100)\n",
    "println(\"Please note the type of x: \",typeof(x), \" which is a synonym of Vector{Float64,1}\")\n",
    "\n",
    "# compute and print basic statistics\n",
    "println(\"mean value: \", StatsBase.mean(x) )\n",
    "println(\"standard error: \", StatsBase.std(x) )\n",
    "println(\"variance: \", StatsBase.var(x) )\n",
    "println(\"kurtosis: \", StatsBase.kurtosis(x) )\n",
    "println(\"skewness: \", StatsBase.skewness(x) )\n",
    "println(\"5th order sample central moment: \", StatsBase.moment(x,5) )\n",
    "println(\"min  value & its location in x: \", findmin(x) )\n",
    "println(\"max  value & its location in x: \", findmax(x) )\n",
    "println(\"25% quantile: \", StatsBase.quantile(x, 0.25) )\n",
    "println(\"75% quantile: \", StatsBase.quantile(x, 0.75) )\n",
    "println(\"median: \", StatsBase.median(x), \" which is equivalent to 50% quantile: \", StatsBase.quantile(x, 0.5) )\n",
    "println(\"mode: \", StatsBase.mode(x) )"
   ]
  },
  {
   "cell_type": "markdown",
   "metadata": {},
   "source": [
    "There are several things to note:\n",
    "1. `Vector{T}` is a simple presentation of one-way array `Array{T,1}`, where `T` is a wildcard denoting \"type\" in Julia type systems. In the same way, `Matrix{T}` is the simple presentation of two-way array `Array{T,2}`. And in Julia, `Array{T,W}` can be seen as the union set of Python's list and Matlab's array. They can do list operations also linear algebra operations.\n",
    "2. finding max/min in Julia does not use `max()` and `min()` but use `findmax()` and `findmin()`. The two functions return a 2-member Tuple whose 1st member is the max/min value and the 2nd is the location of max/min in the given iterable object. By the way, `max()` and `min()` are similar to those in C/C++. They just compare two arguments and return the larger/smaller one."
   ]
  },
  {
   "cell_type": "markdown",
   "metadata": {},
   "source": [
    "Now we learn how to format a table of basic descriptive statistics.\n",
    "To do this job, there are two common ways:\n",
    "1. using simple `Array{T,2}` structures then format it by oneself\n",
    "2. using `DataFrame` to make it look like a table\n",
    "\n",
    "First, we display a demo of using `Array{T,2}` to format your statistics."
   ]
  },
  {
   "cell_type": "code",
   "execution_count": 13,
   "metadata": {},
   "outputs": [
    {
     "name": "stdout",
     "output_type": "stream",
     "text": [
      "The table of basic statistics in a Matrix:\n"
     ]
    },
    {
     "data": {
      "text/plain": [
       "3×9 Array{Any,2}:\n",
       " \"Variable\"     \"N\"    \"min\"      …   \"std\"     \"75% qt\"   \"max\"  \n",
       " \"x1\"        100      0.00662265     0.296445  0.696367   0.983436\n",
       " \"x2\"        100     -2.41295        0.948719  0.474806   2.72317 "
      ]
     },
     "execution_count": 13,
     "metadata": {},
     "output_type": "execute_result"
    }
   ],
   "source": [
    "x1 = rand(100); x2 = randn(100); # sample data, one from uniform, one from N(0,1)\n",
    "stattab = [\n",
    "    \"Variable\" \"N\" \"min\" \"25% qt\" \"median\" \"mean\" \"std\" \"75% qt\" \"max\" ;\n",
    "    \"x1\" length(x1) findmin(x1)[1] StatsBase.quantile(x1,0.25) StatsBase.median(x1) StatsBase.mean(x1) StatsBase.std(x1) StatsBase.quantile(x1,0.75) findmax(x1)[1] ;\n",
    "    \"x2\" length(x2) findmin(x2)[1] StatsBase.quantile(x2,0.25) StatsBase.median(x2) StatsBase.mean(x2) StatsBase.std(x2) StatsBase.quantile(x2,0.75) findmax(x2)[1] ;\n",
    "]\n",
    "println(\"The table of basic statistics in a Matrix:\")\n",
    "stattab"
   ]
  },
  {
   "cell_type": "code",
   "execution_count": 14,
   "metadata": {},
   "outputs": [
    {
     "name": "stdout",
     "output_type": "stream",
     "text": [
      "The table of basic statistics in a Matrix:\n"
     ]
    },
    {
     "data": {
      "text/plain": [
       "3×9 Array{Any,2}:\n",
       " \"Variable\"     \"N\"    \"min\"      …   \"std\"     \"75% qt\"   \"max\"  \n",
       " \"x1\"        100.0    0.00662265     0.296445  0.696367   0.983436\n",
       " \"x2\"        100.0   -2.41295        0.948719  0.474806   2.72317 "
      ]
     },
     "execution_count": 14,
     "metadata": {},
     "output_type": "execute_result"
    }
   ],
   "source": [
    "# or we can define a small function to make things clearer\n",
    "func(x) = return [\n",
    "    length(x) findmin(x)[1] StatsBase.quantile(x,0.25) StatsBase.median(x) StatsBase.mean(x) StatsBase.std(x) StatsBase.quantile(x,0.75) findmax(x)[1] ;\n",
    "]\n",
    "\n",
    "# use cat() to connect arrays on specific dim\n",
    "# NOTE: dims = 1 by columns, dims = 2 by rows\n",
    "stattab = cat(\n",
    "    [ \"Variable\" \"N\" \"min\" \"25% qt\" \"median\" \"mean\" \"std\" \"75% qt\" \"max\"],\n",
    "    cat( \"x1\", func(x1), dims = 2 ),\n",
    "    cat( \"x2\", func(x2), dims = 2 ),\n",
    "    dims = 1\n",
    ");\n",
    "println(\"The table of basic statistics in a Matrix:\")\n",
    "stattab"
   ]
  },
  {
   "cell_type": "markdown",
   "metadata": {},
   "source": [
    "Now, we use a DataFrame to organize our result:\n",
    "\n",
    "\n"
   ]
  },
  {
   "cell_type": "code",
   "execution_count": 18,
   "metadata": {},
   "outputs": [
    {
     "name": "stdout",
     "output_type": "stream",
     "text": [
      "The defined data frame is: \n"
     ]
    },
    {
     "data": {
      "text/html": [
       "<table class=\"data-frame\"><thead><tr><th></th><th>Variable</th><th>N</th><th>min</th><th>qt25</th><th>median</th><th>mean</th><th>qt75</th><th>max</th></tr><tr><th></th><th>String</th><th>Int64</th><th>Float64</th><th>Float64</th><th>Float64</th><th>Float64</th><th>Float64</th><th>Float64</th></tr></thead><tbody><tr><th>1</th><td>x1</td><td>100</td><td>0.00662265</td><td>0.182114</td><td>0.411292</td><td>0.450711</td><td>0.696367</td><td>0.983436</td></tr><tr><th>2</th><td>x2</td><td>100</td><td>-2.41295</td><td>-0.550101</td><td>-0.131756</td><td>-0.0865205</td><td>0.474806</td><td>2.72317</td></tr></tbody></table>"
      ],
      "text/plain": [
       "2×8 DataFrames.DataFrame. Omitted printing of 2 columns\n",
       "│ Row │ Variable │ N     │ min        │ qt25      │ median    │ mean       │\n",
       "│     │ \u001b[90mString\u001b[39m   │ \u001b[90mInt64\u001b[39m │ \u001b[90mFloat64\u001b[39m    │ \u001b[90mFloat64\u001b[39m   │ \u001b[90mFloat64\u001b[39m   │ \u001b[90mFloat64\u001b[39m    │\n",
       "├─────┼──────────┼───────┼────────────┼───────────┼───────────┼────────────┤\n",
       "│ 1   │ x1       │ 100   │ 0.00662265 │ 0.182114  │ 0.411292  │ 0.450711   │\n",
       "│ 2   │ x2       │ 100   │ -2.41295   │ -0.550101 │ -0.131756 │ -0.0865205 │"
      ]
     },
     "execution_count": 18,
     "metadata": {},
     "output_type": "execute_result"
    }
   ],
   "source": [
    "    import DataFrames # private, but usually \"using\" in practice\n",
    "\n",
    "# creating a DataFrame by columns:\n",
    "statdframe = DataFrames.DataFrame(\n",
    "    :Variable => [\"x1\", \"x2\"],\n",
    "    :N => [ length(x1), size(x2)[1] ], # using size()[1] to get the size of 1st dimension\n",
    "    :min => [findmin(x1)[1], findmin(x2)[1]],  # basic definition\n",
    "    :qt25 => [ StatsBase.quantile(y,0.25) for y in [x1,x2] ], # python-like list comprehension\n",
    "    :median => StatsBase.median.([x1,x2]), # \".\"-style method broadcasting\n",
    "    :mean => StatsBase.mean.([x1,x2]),\n",
    "    :qt75 => StatsBase.quantile.([x1,x2], 0.75),\n",
    "    :max => [findmax(x1)[1], findmax(x2)[1]]\n",
    ");\n",
    "println(\"The defined data frame is: \")\n",
    "statdframe"
   ]
  },
  {
   "cell_type": "code",
   "execution_count": null,
   "metadata": {},
   "outputs": [],
   "source": []
  },
  {
   "cell_type": "code",
   "execution_count": null,
   "metadata": {},
   "outputs": [],
   "source": [
    "\n",
    "\n"
   ]
  },
  {
   "cell_type": "code",
   "execution_count": null,
   "metadata": {},
   "outputs": [],
   "source": [
    "\n"
   ]
  },
  {
   "cell_type": "code",
   "execution_count": null,
   "metadata": {},
   "outputs": [],
   "source": []
  },
  {
   "cell_type": "code",
   "execution_count": null,
   "metadata": {},
   "outputs": [],
   "source": []
  }
 ],
 "metadata": {
  "kernelspec": {
   "display_name": "Julia 1.0.1",
   "language": "julia",
   "name": "julia-1.0"
  },
  "language_info": {
   "file_extension": ".jl",
   "mimetype": "application/julia",
   "name": "julia",
   "version": "1.0.1"
  }
 },
 "nbformat": 4,
 "nbformat_minor": 2
}
