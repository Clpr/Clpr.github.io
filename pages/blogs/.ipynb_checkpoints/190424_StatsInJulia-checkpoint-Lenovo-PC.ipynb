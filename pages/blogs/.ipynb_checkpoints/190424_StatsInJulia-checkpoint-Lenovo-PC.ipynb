{
 "cells": [
  {
   "cell_type": "markdown",
   "metadata": {},
   "source": [
    "# Doing statistics/econometrics in Julia 1.0\n",
    "\n",
    "* author: Tianhao Zhao\n",
    "* date: April 4, 2019\n",
    "* copyright: free\n",
    "\n",
    "-------------------\n",
    "\n",
    "## Table of Contents\n",
    "1. [Introduction](#introduction)\n",
    "1. [What Packages Used?](#WhatPkgUsed)\n",
    "1. [Descriptive Statistics](#descriptivestats)\n",
    "1. [Distributions](#distributions)\n",
    "1. [Sampling & Simulations](#sampling)\n",
    "1. [Hypothesis Testing](#hypothesistesting)\n",
    "1. [Linear Regression & GLM](#linearregression)\n",
    "1. [Clustering, Classification, PCA/Factor and Others](#otherstatmodels)\n",
    "    1.[Clustering](#clustering)\n",
    "    1.[Classification](#classification)\n",
    "    1.[PCA/Factor Analysis](#pcafactor)\n",
    "    1.[Mixture Models](#mixturemodels)\n",
    "1. [Econometrics Topics](#econometrictopics)\n",
    "    1.[Time Series](#timeseries)\n",
    "    1.[Panel Data Models](#panelmodel)\n",
    "    1.[Quantile Models](#quantilemodels)\n",
    "    1.[Structural Models](#structuralmodels)\n",
    "    1.[Filters](#filters)\n",
    "    1.[MCMC](#mcmc)\n",
    "    1.[Beyasian Econometrics](#beyasianeconometrics)\n",
    "1. [Develop Your Own Statistical Models in a Standard Work Flow](#devyourownstatmodels)\n",
    "\n",
    "\n",
    "## 1. Introduction <a name=\"introduction\"></a>\n",
    "\n",
    "In another [blog](190421_PrepareYourJuliaPkg.html) where I introduced how to prepare your Julia 1.0 for economic research, I roughly discussed the statistics/econometrics in Julia in the conclusion section.\n",
    "Though there is still a long way for Julia to go in econometrics, we can now do many fantastic jobs in statistics.\n",
    "This blog discusses how to do basic statistics in Julia 1.0.\n",
    "It depends on `JuliaStats` project and its packages. This is a project initiated by the Julia official. It is the base of the statistics in Julia language.\n",
    "\n",
    "In Section [2](#WhatPkgUsed), I provide a full list of the packages under `JuliaStats` project and some other packages. We will use these packages in this blog.\n",
    "In Section [3](#descriptivestats), I introduce how to use Julia do descriptive Statistics, e.g. histogram, QQ-plot.\n",
    "In Section [4](#distributions), I introduce how to play with many statistical distributions in Julia.\n",
    "In Section [5](#sampling), I introduce how to sampling on distributions or datasets.\n",
    "In Section [6](#hypothesistesting), I introduce how to do hypothesis tests e.g. two-sample F tests.\n",
    "In Section [7](#linearregression), I introduce how to do basic regression analysis with `MultivariateStats` and `GLM` packages.\n",
    "In Section [8](#otherstatmodels), I introduce how to do other common statistical analysis such as clustering and PCA.\n",
    "In Section [9](#econometrictopics), I discuss what other functions are required but not provided yet if we want to do more-specific econometric research, e.g. quantile regression and panel data models.\n",
    "\n",
    "<font color = red><b>This blog will be updated by time. Not finished when published.</b></font>"
   ]
  },
  {
   "cell_type": "markdown",
   "metadata": {},
   "source": [
    "## 2. What Packages Used? <a name=\"WhatPkgUsed\"></a>\n",
    "\n",
    "In this section, I talk about what packages to use in the next sections. About how to install Julia packages, please read my another [blog](190421_PrepareYourJuliaPkg.html).\n",
    "Please note, we do not use R/Python's API via `RCall`/`PyCall` (except plotting with `PyPlot`) since we are talking about the statistics in Julia.\n",
    "Meanwhile, this blog cannot cover every function of each package. Readers may be like to read these packages' documentations through searching their names on Github.\n",
    "\n",
    "`JuliaStats` is a project initiated by Julia official. Its website is: [JuliaStats.org](https://juliastats.github.io/).\n",
    "This project aims to make Julia become powerful in statistics (well ... not specially for econometrics).\n",
    "It has been the foundation of many ML/DL pacakges of Julia.\n",
    "The reason why we mainly talk about this project is that `JuliaStats` is like `SciPy` for Python or `stats` for R.\n",
    "It is expected to be the foundation of Julia statistics.\n",
    "\n",
    "There are 15 packages under `JuliaStats` project now. The following table is modified from the [documentation page](https://juliastats.github.io/) of `JuliaStats`:\n",
    "\n",
    "|Package|Task|Mainly for|\n",
    "|----|----|-----|\n",
    "|StatsBase|Basic functionalities for statistics| Descriptive statistics; sampling; ranking; weights; correlation/auto-correlation |\n",
    "|StatsModels|Interfaces for statistical models| R-style `@formula`; abstrations for statistical model development |\n",
    "|DataFrames|Essential tools for tabular data| Data structure and operations for regression datasets |\n",
    "|Distributions| Probability distributions | A large number of univariate/multivariate distributions; descriptive stats; moments/pdf/cdf/mgf, sampling, MLE |\n",
    "|MultivariateStats|Multivariate statistical analysis | Matrix-based API for linear (e.g. LS, Lasso, Ridge) models, dimensionallity reduction, scaling, linear discriminant analysis|\n",
    "|HypothesisTests|Hypothesis tests| Parametric and Nonparametric tests|\n",
    "|MLBase| Swiss knife for machine learning| Data preprocessing; classifications; performance evaluation; model selectionn; cross-validation |\n",
    "|Distances| Various distances between vectors |  |\n",
    "|KernelDensity| Kernel density estimation| For univariate/multivariate/bivariate data; user customization of interpolation points/kernel/bandwidth |\n",
    "|Clustering| Algorithms for data clustering| K-means/medoids; Affinity propagation; Performance evaluation etc.|\n",
    "|<font color=red>GLM</font>| Generalized linear models| R-style API for LM/GLM |\n",
    "|NMF| Nonnegative matrix factorization| A variety of NMF algorithms; NNDSVD |\n",
    "|RegERMs| Lasso/Elstic Net linear and generalized linear models | `glmnet` coordinate descent algorithm; polinomial trend filtering ; O(n) fused Lasso ; Gamma Lasso |\n",
    "|Klara| Markov Chain Monte Carlo (MCMC) |  Engine for Bayesian inference; samplers with latest techniques; ability to suspend and resume |\n",
    "|TimeSeries| Time series analysis | Tools to represent, manipulate, and apply computation to time series data|\n"
   ]
  },
  {
   "cell_type": "code",
   "execution_count": null,
   "metadata": {},
   "outputs": [],
   "source": []
  },
  {
   "cell_type": "code",
   "execution_count": null,
   "metadata": {},
   "outputs": [],
   "source": [
    "\n"
   ]
  },
  {
   "cell_type": "code",
   "execution_count": null,
   "metadata": {},
   "outputs": [],
   "source": []
  },
  {
   "cell_type": "code",
   "execution_count": null,
   "metadata": {},
   "outputs": [],
   "source": []
  },
  {
   "cell_type": "code",
   "execution_count": null,
   "metadata": {},
   "outputs": [],
   "source": []
  },
  {
   "cell_type": "code",
   "execution_count": null,
   "metadata": {},
   "outputs": [],
   "source": [
    "\n",
    "\n",
    "\n"
   ]
  },
  {
   "cell_type": "code",
   "execution_count": null,
   "metadata": {},
   "outputs": [],
   "source": [
    "\n",
    "\n"
   ]
  }
 ],
 "metadata": {
  "kernelspec": {
   "display_name": "Julia 1.0.3",
   "language": "julia",
   "name": "julia-1.0"
  },
  "language_info": {
   "file_extension": ".jl",
   "mimetype": "application/julia",
   "name": "julia",
   "version": "1.0.3"
  }
 },
 "nbformat": 4,
 "nbformat_minor": 2
}
